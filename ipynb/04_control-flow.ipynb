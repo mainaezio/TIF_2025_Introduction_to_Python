{
 "cells": [
  {
   "cell_type": "markdown",
   "metadata": {},
   "source": [
    "<H1 style=\"font-size:50px\">4: Control Flow</H1>\n",
    "\n",
    "<div style = \"width:95%; padding:5px 10px 5px;  margin:50px 0px 10px 10px; font-size:18px\">\n",
    "<UL>\n",
    "    <LI> Come prendere decisioni in un programma: <strong>if - (then) - else</strong>\n",
    "    <LI> Come operare su sequenze: <strong>for</strong> e <strong>while</strong> loop\n",
    "    <LI> Come interrompere un loop    \n",
    "    <LI> Come usare <strong>if</strong> per selezionare all'interno di sequenze\n",
    "</UL>\n",
    "</div>\n",
    "\n",
    "<hr>\n"
   ]
  },
  {
   "cell_type": "markdown",
   "metadata": {},
   "source": [
    "## If-then-else\n",
    "\n",
    "La costruzione `if` permette di eseguire del codice in modo condizionato. Dopo la parola chiave `if` deve essere presente una *condizione* seguita da due punti (`:`). Nella riga successiva inizia un blocco di comandi, che deve essere indentato, che viene eseguito se la condizione è soddisfatta (`True`). Il blocco di comandi termina quando finisce l'indentazione."
   ]
  },
  {
   "cell_type": "code",
   "execution_count": null,
   "metadata": {},
   "outputs": [],
   "source": [
    "a = -34\n",
    "if a > 0:\n",
    "    print(\"a is positive\")"
   ]
  },
  {
   "cell_type": "markdown",
   "metadata": {},
   "source": [
    "La costruzione `if` può avere un branch `else`, con la stessa indentazione dell'`if` da cui dipende, che viene eseguito se la condizione è falsa:"
   ]
  },
  {
   "cell_type": "code",
   "execution_count": null,
   "metadata": {},
   "outputs": [],
   "source": [
    "a = -34\n",
    "if a > 0:\n",
    "    print(\"a is positive\")\n",
    "else:\n",
    "    print(\"a is non-positive (i.e. negative or zero)\")"
   ]
  },
  {
   "cell_type": "markdown",
   "metadata": {},
   "source": [
    "Infine, esiste la costruzione `elif` (significa “else if”) che permette di verificare più di due possibilità esclusive. Le verifiche vengono eseguite nell'ordine in cui compaiono. Non appena una delle condizioni è verificata il codice corrispondente viene eseguito e le possibilità seguenti vengono ignorate:"
   ]
  },
  {
   "cell_type": "code",
   "execution_count": null,
   "metadata": {},
   "outputs": [],
   "source": [
    "a = 0\n",
    "if a == 0:\n",
    "    print(\"a is zero\")\n",
    "elif a < 0:\n",
    "    print(\"a is negative\")\n",
    "else:\n",
    "    print(\"a is positive\")"
   ]
  },
  {
   "cell_type": "markdown",
   "metadata": {},
   "source": [
    "Le condizioni possono essere combinate:"
   ]
  },
  {
   "cell_type": "code",
   "execution_count": null,
   "metadata": {},
   "outputs": [],
   "source": [
    "a = 5\n",
    "b = 21\n",
    "if a > 10 and b > 20:\n",
    "    print(\"A is greater than 10 and b is greater than 20\")\n",
    "\n",
    "a = 5\n",
    "b = -21\n",
    "if a > 10 or b < -5:\n",
    "    print(\"Either a is greater than 10, or \"\n",
    "          \"b is smaller than -5, or both.\")"
   ]
  },
  {
   "cell_type": "markdown",
   "metadata": {},
   "source": [
    "<div style= \"padding:20px 20px 0px 50px;\">\n",
    "    <img src=\"../Images/Control_Flow_2018-07-image9-min-1-1024x840.png\" width=\"600\"/>\n",
    "\n",
    "&nbsp;  \n",
    "   Da [https://365datascience.com/tutorials/python-tutorials/elif-python/](https://365datascience.com/tutorials/python-tutorials/elif-python/)\n",
    "</div>"
   ]
  },
  {
   "cell_type": "markdown",
   "metadata": {},
   "source": [
    "<div style = \"width:95%; padding:5px 10px 5px; border-style:solid; border-width:0px 0px 0px 10px; border-color:#b8d0d0; margin:20px 0px 10px 10px\">\n",
    "    <h4> Imparare Facendo</h4>\n",
    "<OL>\n",
    "<LI>Costruite la funzione <b>long</b> che prenda come argomento due stringhe, <b>L1</b> e <b>L2</b> e restituisca quella più lunga.\n",
    "    Testate la vostra funzione con qualche esempio.\n",
    "<LI>Costruite la funzione <b>my_range_0_1</b> che prenda come argomento un numero reale $x$ e restitisca <b>True</b> se\n",
    "    $ 0 \\leq x \\lt 1 $ e <b>False</b> in caso contrario. Testate la vostra funzione con qualche esempio.\n",
    "<LI>Costruite la funzione <b>my_square_root</b> che prenda come argomento un numero reale <b>x</b> e restitisca la radice quadrata di <b>x</b>\n",
    "      se questa esiste e -1 se la radice non esiste.  Testate la vostra funzione con qualche esempio.\n",
    "</OL>\n",
    "</div>"
   ]
  },
  {
   "cell_type": "markdown",
   "metadata": {},
   "source": [
    "### Informazioni ulteriori\n",
    "\n",
    "-   Introduzione a If-then in [Python tutorial, section 4.1](http://docs.python.org/tutorial/controlflow.html#if-statements)"
   ]
  },
  {
   "cell_type": "markdown",
   "metadata": {},
   "source": [
    "## For loop\n",
    "\n",
    "I `for`-loop permettono di iterare su tutti gli elementi di una sequenza nota (per esempio una stringa o una lista). Ecco un esempio:"
   ]
  },
  {
   "cell_type": "code",
   "execution_count": null,
   "metadata": {},
   "outputs": [],
   "source": [
    "for animal in ['dog', 'cat', 'mouse']:\n",
    "    print(animal, animal.upper())"
   ]
  },
  {
   "cell_type": "markdown",
   "metadata": {},
   "source": [
    "Usando il comando `range()` (lezione 3), è possibile iterare su degli interi crescenti o decrescenti:"
   ]
  },
  {
   "cell_type": "code",
   "execution_count": null,
   "metadata": {},
   "outputs": [],
   "source": [
    "import math\n",
    "a =[]     # lista vuota\n",
    "for i in range(5, 10):\n",
    "    a.append(math.sin(i*math.pi/2))\n",
    "    \n",
    "print(a)"
   ]
  },
  {
   "cell_type": "markdown",
   "metadata": {},
   "source": [
    "I `for`-loop possono essere usate in modo conciso per creare facilmente sequenze utilizzando la cosiddetta **list comprehension**: "
   ]
  },
  {
   "cell_type": "code",
   "execution_count": null,
   "metadata": {},
   "outputs": [],
   "source": [
    "a = tuple(i**2 for i in range(10))    # ntupla\n",
    "a"
   ]
  },
  {
   "cell_type": "code",
   "execution_count": null,
   "metadata": {},
   "outputs": [],
   "source": [
    "b = [i**0.5/3. for i in range(3,9,2)]    # lista\n",
    "b"
   ]
  },
  {
   "cell_type": "code",
   "execution_count": null,
   "metadata": {},
   "outputs": [],
   "source": [
    "c ={i:(i**3-2*i+1) for i in range(4)}    # dizionario\n",
    "c"
   ]
  },
  {
   "cell_type": "markdown",
   "metadata": {},
   "source": [
    "Se &egrave; necessario utilizzare contemporaneamente l'indice e il valore degli elementi di una lista, si pu&ograve; utilizzare la funzione `enumerate`:"
   ]
  },
  {
   "cell_type": "code",
   "execution_count": null,
   "metadata": {},
   "outputs": [],
   "source": [
    "for i, animal in enumerate(['dog', 'cat', 'mouse']):\n",
    "    print(animal*(i+1))"
   ]
  },
  {
   "cell_type": "markdown",
   "metadata": {},
   "source": [
    "Un esempio di `for`-loop che utilizza un dizionario:"
   ]
  },
  {
   "cell_type": "code",
   "execution_count": null,
   "metadata": {},
   "outputs": [],
   "source": [
    "order = {}        # create an empty dictionary\n",
    "\n",
    "#add orders as they come in\n",
    "order['Peter'] = 'Pint of bitter'\n",
    "order['Paul'] = 'Half pint of Hoegarden'\n",
    "order['Mary'] = 'Gin Tonic'\n",
    "\n",
    "#deliver order at bar\n",
    "for person in order.keys():\n",
    "# for person in order:      shortcut: in a dictionary defaults to the keys\n",
    "    print(person, \"requests\", order[person])"
   ]
  },
  {
   "cell_type": "markdown",
   "metadata": {},
   "source": [
    "Un altro esempio per dimostrare il possibile vantaggio nell'uso di un dizionario piuttosto che una coppia di liste:"
   ]
  },
  {
   "cell_type": "code",
   "execution_count": null,
   "metadata": {},
   "outputs": [],
   "source": [
    "dic = {}                        #create empty dictionary\n",
    "\n",
    "dic[\"Hans\"]   = \"room 1033\"     #fill dictionary\n",
    "dic[\"Andy C\"] = \"room 1031\"     #\"Andy C\" is key\n",
    "dic[\"Ken\"]    = \"room 1027\"     #\"room 1027\" is value\n",
    "\n",
    "for key in dic.keys():\n",
    "    print(key, \"works in\", dic[key])"
   ]
  },
  {
   "cell_type": "markdown",
   "metadata": {},
   "source": [
    "Senza usare un dizionario:"
   ]
  },
  {
   "cell_type": "code",
   "execution_count": null,
   "metadata": {},
   "outputs": [],
   "source": [
    "people = [\"Hans\", \"Andy C\", \"Ken\"]\n",
    "rooms = [\"room 1033\", \"room 1031\", \"room 1027\"]\n",
    "\n",
    "# possible inconsistency here since we have two lists\n",
    "if not len(people) == len(rooms):\n",
    "    raise RuntimeError(\"people and rooms differ in length\")\n",
    "\n",
    "for i in range(len(rooms)):\n",
    "    print(people[i], \"works in\", rooms[i])"
   ]
  },
  {
   "cell_type": "markdown",
   "metadata": {},
   "source": [
    "### Loop concatenati"
   ]
  },
  {
   "cell_type": "code",
   "execution_count": null,
   "metadata": {},
   "outputs": [],
   "source": [
    "a = []\n",
    "for i in range(3):\n",
    "    for j in range(3):\n",
    "        a.append(i + 10*j)\n",
    "\n",
    "print(a)"
   ]
  },
  {
   "cell_type": "markdown",
   "metadata": {},
   "source": [
    "Oppure, più concisamente:"
   ]
  },
  {
   "cell_type": "code",
   "execution_count": null,
   "metadata": {},
   "outputs": [],
   "source": [
    "[i + 10*j for i in range(3) for j in range(3)]"
   ]
  },
  {
   "cell_type": "markdown",
   "metadata": {},
   "source": [
    "Costruiamo un esempio per mostrare la sequenza di operazioni in loop concatenati.\n",
    "In ciascun passo facciamo stampare i valori degli indici nei loop e il risultato.\n",
    "Per ogni valore dell'indice esterno `i`, si calcola il risultato per ciascun valore dell'indice interno `j`"
   ]
  },
  {
   "cell_type": "code",
   "execution_count": null,
   "metadata": {
    "tags": []
   },
   "outputs": [],
   "source": [
    "for i in range(3):\n",
    "    for j in range(4):\n",
    "        print('index i:', i)\n",
    "        print('index j:', j)\n",
    "        res = 10*i + j\n",
    "        print('10*i + j:', res, '\\n')\n"
   ]
  },
  {
   "cell_type": "markdown",
   "metadata": {},
   "source": [
    "Provate a scambiare i due loop."
   ]
  },
  {
   "cell_type": "markdown",
   "metadata": {},
   "source": [
    "<div style = \"width:95%; padding:5px 10px 5px; border-style:solid; border-width:0px 0px 0px 10px; border-color:#b8d0d0; margin:20px 0px 10px 10px\">\n",
    "    <h4> Imparare Facendo</h4>\n",
    "<OL>\n",
    "<LI>Calcolate il valore del seno degli angoli $\\theta_i = 2 \\pi /100 * i$ per $i = 0,1,2,\\cdots ,100$.\n",
    "<LI>Calcolate la lunghezza di ciascuna parola in L0 = \"Tutte le famiglie felici si assomigliano fra loro, ogni famiglia infelice è infelice a suo modo\".split().\n",
    "<LI>La posizione di un corpo in caduta libera che parta da fermo al tempo $t=0$ da una altezza di $200\\, m$ è:\n",
    "    $$y(t) = 200 - 0.5 \\,g\\, t^2$$\n",
    "    con $g = 9.81\\, m/s^2$. Calcolate la posizione del corpo per $t = 0, 0.1, 0.2,\\cdots,2.0\\, s$\n",
    "<LI>Costruite la funzione <b>per_tre(L)</b> che data una lista <b>L</b> di numeri reali o complessi restituisca la lista degli elementi di \n",
    "        <b>L</b> moltiplicati per 3. \n",
    "</OL>\n",
    "</div>"
   ]
  },
  {
   "cell_type": "markdown",
   "metadata": {},
   "source": [
    "##### Informazioni ulteriori\n",
    "\n",
    "-   Introduzione ai `for`-loops in [Python tutorial, section 4.2](http://docs.python.org/tutorial/controlflow.html#for-statements)\n",
    "\n"
   ]
  },
  {
   "cell_type": "markdown",
   "metadata": {},
   "source": [
    "## While loop\n",
    "\n",
    "La parola chiave `while` permette di ripetere una operazione fino a quando una condizione è vera. Dopo la parola chiave `while` deve essere presente una condizione seguita da due punti (:). Nella riga successiva inizia un nuovo blocco di comandi (che quindi deve essere indentato!) che viene eseguito se la condizione è True.<BR>\n",
    "Supponiamo di voler sapere per quanti anni è necessario tenere 100 euro in un conto bancario per arrivare a 200 euro grazie ad un interesse del 5% annuo. Non sappiamo a priori quanti anni saranno necessari, &egrave; esattamente quello che vogliamo determinare. Sappiamo come verificare se siamo arrivati al risultato cercato.\n",
    "Il `while`-loop &egrave; lo strumento pi&ugrave; appropriato:"
   ]
  },
  {
   "cell_type": "code",
   "execution_count": null,
   "metadata": {},
   "outputs": [],
   "source": [
    "mymoney = 100         # in euro\n",
    "growth_factor = 1.05           # 5% interesse. Fattore di crescira annuale\n",
    "years = 0\n",
    "while mymoney < 200:  # ripeti fino a raggiungere 200 euro\n",
    "    mymoney = mymoney * growth_factor\n",
    "    years = years + 1\n",
    "\n",
    "print('We need', years, 'years to reach', mymoney, 'euros.')"
   ]
  },
  {
   "cell_type": "markdown",
   "metadata": {},
   "source": [
    "Un esempio classico: qual'&egrave; la più piccola potenza di 1/2 che posso aggiungere a 1 senza modificarne la rappresentazione come numero reale?\n",
    "Ovvero qual'&egrave; il più piccolo numero `floating point` della forma `1.+(1/2.)**n` indistinguibile da `1.`?"
   ]
  },
  {
   "cell_type": "code",
   "execution_count": null,
   "metadata": {},
   "outputs": [],
   "source": [
    "r0 = 1.0\n",
    "r2 = 1/2\n",
    "n = 1\n",
    "\n",
    "while r0 - r2 != r0:\n",
    "    r2 = r2/2\n",
    "    n = n + 1\n",
    "\n",
    "print(n)\n",
    "print(f\"{r2:e}\")"
   ]
  },
  {
   "cell_type": "markdown",
   "metadata": {},
   "source": [
    "Test:"
   ]
  },
  {
   "cell_type": "code",
   "execution_count": null,
   "metadata": {},
   "outputs": [],
   "source": [
    "print(1.0 - 1/2**(n-1))\n",
    "print(1.0 - 1/2**n)"
   ]
  },
  {
   "cell_type": "markdown",
   "metadata": {},
   "source": [
    "<div style= \"padding:20px 20px 0px 50px;\">\n",
    "    <img src=\"../Images/flowchart-of-while-loop-in-python.webp\" width=\"600\"/>\n",
    "\n",
    "&nbsp;  \n",
    "   Da [https://www.scaler.com/topics/python/while-loop-in-python/](https://www.scaler.com/topics/python/while-loop-in-python/)\n",
    "</div>"
   ]
  },
  {
   "cell_type": "markdown",
   "metadata": {},
   "source": [
    "<div style = \"width:95%; padding:5px 10px 5px; border-style:solid; border-width:0px 0px 0px 10px; border-color:#b8d0d0; margin:20px 0px 10px 10px\">\n",
    "    <h4> Imparare Facendo</h4>\n",
    "<OL>\n",
    "<LI>Il valore dell'esponenziale di <b>x</b> può essere calcolato con lo sviluppo in serie:\n",
    "    $$ e^x = 1 + \\frac{x}{1!} + \\frac{x^2}{2!} + \\frac{x^3}{3!} + \\frac{x^4}{4!} + \\cdots$$\n",
    "    Determinare il minimo numero di termini dell'espressione a secondo membro che è necessario utilizzare per calcolare\n",
    "    $e^{1/2} = \\sqrt{e}$ con un errore non più grande di 0.001.\n",
    "<LI>Costruite la funzione <b>sum_to_30</b> che prenda come argomento una lista di numeri interi positivi e restituisca la piú lunga sottolista che parta dal primo elemento e la somma dei cui elementi sia minore di 30. Se il primo elemento è maggiore di 30 <b>sum_to_30</b> deve restituire la lista vuota.<BR>\n",
    "Esempi:\n",
    "<UL>   \n",
    "<LI>sum_to_30([55,1]) -> []\n",
    "<LI>sum_to_30([1,2,26,1,4]) -> [1,2,26]\n",
    "</UL>\n",
    "</OL>\n",
    "</div>"
   ]
  },
  {
   "cell_type": "markdown",
   "metadata": {},
   "source": [
    "## Come filtrare una lista/ntupla/dizionario con `if`\n",
    "\n",
    "Spesso è necessario estrarre da una lista gli elementi che soddisfano una certa condizione. Lo si può ottenere con un `if` *all'interno* della definizione della lista. Combinando la `list comprehension` con delle condizioni `if` &egrave; possibile generare e/o filtrare liste con grande flessibilit&agrave; in modo estremamente conciso."
   ]
  },
  {
   "cell_type": "code",
   "execution_count": null,
   "metadata": {},
   "outputs": [],
   "source": [
    "my_list = list(range(5, 20))\n",
    "my_list"
   ]
  },
  {
   "cell_type": "markdown",
   "metadata": {},
   "source": [
    "Per selezionare solo gli elementi divisibile per 3:"
   ]
  },
  {
   "cell_type": "code",
   "execution_count": null,
   "metadata": {},
   "outputs": [],
   "source": [
    "print([i for i in my_list if i % 3 == 0])"
   ]
  },
  {
   "cell_type": "code",
   "execution_count": null,
   "metadata": {},
   "outputs": [],
   "source": [
    "print(tuple(i for i in my_list if i % 3 == 0))"
   ]
  },
  {
   "cell_type": "code",
   "execution_count": null,
   "metadata": {},
   "outputs": [],
   "source": [
    "{i:i**2 for i in my_list if i % 3 == 0}"
   ]
  },
  {
   "cell_type": "markdown",
   "metadata": {},
   "source": [
    "Si possono combinare pi&ugrave; filtri. Per selezionare solo gli elementi pari, maggiori di 6 e minori di 17:"
   ]
  },
  {
   "cell_type": "code",
   "execution_count": null,
   "metadata": {},
   "outputs": [],
   "source": [
    "[i for i in my_list if i % 2 == 0 and i > 6 and i < 17]"
   ]
  },
  {
   "cell_type": "markdown",
   "metadata": {},
   "source": [
    "È possibile applicare un filtro direttamente quando si crea una lista:"
   ]
  },
  {
   "cell_type": "code",
   "execution_count": null,
   "metadata": {},
   "outputs": [],
   "source": [
    "my_list = [i**2 for i in range(21) if i%2 == 0]\n",
    "my_list"
   ]
  },
  {
   "cell_type": "markdown",
   "metadata": {},
   "source": [
    "Si possono utilizzare filtri anche nella creazione di dizionari:"
   ]
  },
  {
   "cell_type": "code",
   "execution_count": null,
   "metadata": {},
   "outputs": [],
   "source": [
    "my_dict = {i:i**2 for i in range(21) if i%2 == 0}\n",
    "my_dict"
   ]
  },
  {
   "cell_type": "markdown",
   "metadata": {},
   "source": [
    "La keyword `in` serve anche a testare se un oggetto è presente in una lista/stringa/ntupla:"
   ]
  },
  {
   "cell_type": "code",
   "execution_count": null,
   "metadata": {},
   "outputs": [],
   "source": [
    "a = 3\n",
    "my_list = [5, 3, -1, 'pie']\n",
    "a in my_list"
   ]
  },
  {
   "cell_type": "code",
   "execution_count": null,
   "metadata": {},
   "outputs": [],
   "source": [
    "'pippo' in my_list"
   ]
  },
  {
   "cell_type": "markdown",
   "metadata": {},
   "source": [
    "Abbiamo gi&agrave; visto che se si cerca di accedere ad un elemento corrispondente ad un indice uguale o maggiore della lunghezza della lista si ha un errore:"
   ]
  },
  {
   "cell_type": "code",
   "execution_count": null,
   "metadata": {},
   "outputs": [],
   "source": [
    "l = [1, 2, 3]\n",
    "print(l[44])"
   ]
  },
  {
   "cell_type": "markdown",
   "metadata": {},
   "source": [
    "Per evitare che il programma si interrompa si pu&ograve; eseguire il comando sotto condizione "
   ]
  },
  {
   "cell_type": "code",
   "execution_count": null,
   "metadata": {
    "tags": []
   },
   "outputs": [],
   "source": [
    "print(l[10] if 10 < len(l) else 'fail')"
   ]
  },
  {
   "cell_type": "markdown",
   "metadata": {},
   "source": [
    "<div style = \"width:95%; padding:5px 10px 5px; border-style:solid; border-width:0px 0px 0px 10px; border-color:#b8d0d0; margin:20px 0px 10px 10px\">\n",
    "    <h4> Imparare Facendo</h4>\n",
    "<OL>\n",
    "<LI>Costruite la lista <b>L7</b> dei numeri interi positivi divisibili per 7 e minori di 200. Costruite la lista <b>L7_3</b> degli elementi di <b>L7</b>  che sono anche divisibili per 3.\n",
    "<LI>Costruite la lista <b>L</b> del seno degli angoli $\\theta_i = 2 \\pi /100 * i$ per $i = 0,1,2,\\cdots ,100$. Costruite la lista degli elementi di <b>L</b> compresi fra -0.3 e 0.2. \n",
    "<LI>Costruite la lista <b>L1</b> degli angoli $\\theta_i = 2 \\pi /100 * i$ per $i = 0,1,2,\\cdots ,100$ il cui seno è compreso fra -0.3 e 0.2. \n",
    "<LI>Estraete da:<BR> L0 = \"Tutte le famiglie felici si assomigliano fra loro, ogni famiglia infelice è infelice a suo modo\".split() <BR>la lista delle parole che iniziano con una vocale. Suggerimento: definite la variabile vocali = \"aeiouAEIOU\" e sfruttate la keyword <b>in</b>.\n",
    "</OL>\n",
    "</div>"
   ]
  },
  {
   "cell_type": "markdown",
   "metadata": {},
   "source": [
    "## Interrompere un loop"
   ]
  },
  {
   "cell_type": "markdown",
   "metadata": {},
   "source": [
    "Se è necessario interrompere il loop prima della sua conclusione naturale, si può usare il comando `break` che termina le operazioni all'interno del loop e passa ad eseguire il primo comando successivo al loop. Un paio di esempi:"
   ]
  },
  {
   "cell_type": "code",
   "execution_count": null,
   "metadata": {},
   "outputs": [],
   "source": [
    "for letter in 'Python':     # Primo Esempio\n",
    "    if letter == 'h':\n",
    "        break\n",
    "    print ('Current Letter:', letter)"
   ]
  },
  {
   "cell_type": "code",
   "execution_count": null,
   "metadata": {},
   "outputs": [],
   "source": [
    "var = 10                    # Secondo Esempio\n",
    "while var > 0:\n",
    "    print ('Current variable value :', var)\n",
    "    var = var - 1\n",
    "    if var == 5:\n",
    "        break\n",
    "\n",
    "print (\"Good bye!\")"
   ]
  },
  {
   "cell_type": "markdown",
   "metadata": {},
   "source": [
    "Se è necessario impedire l'esecuzione di uno dei passi del loop (per esempio perchè uno dei dati non è valido) e passare al caso successivo, si può usare il comando `continue`. Un esempio:"
   ]
  },
  {
   "cell_type": "code",
   "execution_count": null,
   "metadata": {},
   "outputs": [],
   "source": [
    "for letter in 'Python':\n",
    "    if letter == 'h':\n",
    "        continue\n",
    "    print ('Current Letter:', letter)\n"
   ]
  },
  {
   "cell_type": "markdown",
   "metadata": {},
   "source": [
    "<div style = \"width:95%; padding:5px 10px 5px; border-style:solid; border-width:0px 0px 0px 10px; border-color:#b8d0d0; margin:20px 0px 10px 10px\">\n",
    "    <h4> Imparare Facendo</h4>\n",
    "<OL>\n",
    "<LI>Assegnate alla variabile <b>L0</b> la lista [4,7,2,-1,3,6]. Esaminate la lista elemento per elemento fermandovi al primo elemento negativo e facendo stampare il messaggio 'il primo elemento negativo è {XX}. Il suo indice è {YY}', dove XX e YY sono il valore e l'indice del primo elemento negativo. \n",
    "    \n",
    "<LI>Costruite una funzione <b>no_digit(S0)</b> che elimini dalls stringa <b>S0</b> tutte le cifre. Usate un ciclo <b>for</b> e la keyword <b>continue</b>.\n",
    "    È utile introdurre la variable, di tipo stringa, cifre=\"0123456789\".\n",
    "</OL>\n",
    "</div>"
   ]
  },
  {
   "cell_type": "markdown",
   "metadata": {},
   "source": [
    "# Sommario 4: Control Flow - Dirigere il Flusso del Programma\n",
    "\n",
    "## 🎯 I Tre Pilastri del Controllo\n",
    "\n",
    "### 1. **DECISIONI** (`if-elif-else`)\n",
    "Eseguire codice in base a condizioni\n",
    "\n",
    "### 2. **RIPETIZIONI** (`for`, `while`)\n",
    "Ripetere operazioni su sequenze o fino a una condizione\n",
    "\n",
    "### 3. **INTERRUZIONI** (`break`, `continue`)\n",
    "Modificare il flusso normale dei loop\n",
    "\n",
    "## 🔀 Decisioni: `if-elif-else`\n",
    "\n",
    "### Struttura Base\n",
    "```python\n",
    "if condizione:          # SEMPRE con :\n",
    "    # codice indentato  # SEMPRE indentato\n",
    "elif altra_condizione:  # opzionale\n",
    "    # altro codice\n",
    "else:                   # opzionale\n",
    "    # codice default\n",
    "```\n",
    "\n",
    "### Punti Chiave\n",
    "- **Ordine conta**: Le condizioni sono verificate sequenzialmente\n",
    "- **Prima vera vince**: Solo il primo blocco vero viene eseguito\n",
    "- **Combinazioni**: `and`, `or`, `not` per condizioni complesse\n",
    "- **Indentazione obbligatoria**: 4 spazi standard\n",
    "\n",
    "## 🔁 Ripetizioni: I Loop\n",
    "\n",
    "### `for` - Quando sai COSA iterare\n",
    "```python\n",
    "for elemento in sequenza:\n",
    "    # opera su elemento\n",
    "```\n",
    "\n",
    "**Uso tipico**: Iterare su liste, stringhe, range definiti\n",
    "\n",
    "### `while` - Quando sai QUANDO fermarti\n",
    "```python\n",
    "while condizione:\n",
    "    # continua finché condizione è True\n",
    "```\n",
    "\n",
    "**Uso tipico**: Continuare fino a convergenza, condizione sconosciuta a priori\n",
    "\n",
    "### Quando Usare Quale?\n",
    "\n",
    "| Usa `for` quando... | Usa `while` quando... |\n",
    "|---------------------|----------------------|\n",
    "| Conosci gli elementi | Non sai quante iterazioni |\n",
    "| Vuoi processare ogni elemento | Aspetti una condizione |\n",
    "| Usi `range(n)` | Cerchi convergenza |\n",
    "\n",
    "## 🚀 List Comprehension - La Sintassi Potente\n",
    "\n",
    "### Pattern Base\n",
    "```python\n",
    "[espressione for item in sequenza]\n",
    "```\n",
    "\n",
    "### Con Filtro\n",
    "```python\n",
    "[espressione for item in sequenza if condizione]\n",
    "```\n",
    "\n",
    "### Esempi Progressivi\n",
    "```python\n",
    "# 1. Base\n",
    "quadrati = [x**2 for x in range(10)]\n",
    "\n",
    "# 2. Con filtro\n",
    "pari = [x for x in range(20) if x % 2 == 0]\n",
    "\n",
    "# 3. Trasformazione e filtro\n",
    "risultati = [x**2 for x in dati if x > 0]\n",
    "\n",
    "# 4. Dizionari\n",
    "d = {x: x**2 for x in range(5)}\n",
    "```\n",
    "\n",
    "## 🛑 Controllo Fine dei Loop\n",
    "\n",
    "### `break` - Uscita immediata\n",
    "```python\n",
    "for x in lista:\n",
    "    if condizione_stop:\n",
    "        break  # esce dal loop\n",
    "    # processo normale\n",
    "```\n",
    "\n",
    "### `continue` - Salta al prossimo\n",
    "```python\n",
    "for x in lista:\n",
    "    if condizione_skip:\n",
    "        continue  # salta resto, vai al prossimo\n",
    "    # processo normale\n",
    "```\n",
    "\n",
    "## 📐 Pattern Utili per la Fisica\n",
    "\n",
    "### Convergenza di Serie\n",
    "```python\n",
    "# Serie di Taylor per e^x\n",
    "somma = 0\n",
    "termine = 1\n",
    "n = 0\n",
    "while abs(termine) > 1e-10:\n",
    "    somma += termine\n",
    "    n += 1\n",
    "    termine *= x/n\n",
    "```\n",
    "\n",
    "### Ricerca di Condizioni\n",
    "```python\n",
    "# Tempo di caduta\n",
    "y = h0\n",
    "t = 0\n",
    "dt = 0.01\n",
    "while y > 0:\n",
    "    y = h0 - 0.5*g*t**2\n",
    "    t += dt\n",
    "```\n",
    "\n",
    "### Filtraggio Dati\n",
    "```python\n",
    "# Dati entro 3 sigma\n",
    "validi = [x for x in misure \n",
    "          if abs(x - media) < 3*sigma]\n",
    "```\n",
    "\n",
    "## ⚠️ Errori Comuni e Soluzioni\n",
    "\n",
    "| Errore | Sintomo | Soluzione |\n",
    "|--------|---------|-----------|\n",
    "| Dimenticare `:` | `SyntaxError` | Aggiungi `:` dopo condizione |\n",
    "| Indentazione errata | `IndentationError` | Usa sempre 4 spazi |\n",
    "| Loop infinito | Programma bloccato | Controlla condizione `while` |\n",
    "| `=` invece di `==` | Assegnazione in `if` | Usa `==` per confronti |\n",
    "| Range sbagliato | Manca ultimo elemento | Ricorda: `range(n)` va da 0 a n-1 |\n",
    "\n",
    "## 💡 Best Practices\n",
    "\n",
    "### 1. Preferisci `for` a `while` quando possibile\n",
    "```python\n",
    "# Meglio\n",
    "for i in range(10):\n",
    "    print(i)\n",
    "\n",
    "# Evita\n",
    "i = 0\n",
    "while i < 10:\n",
    "    print(i)\n",
    "    i += 1\n",
    "```\n",
    "\n",
    "### 2. Usa list comprehension per trasformazioni semplici\n",
    "```python\n",
    "# Meglio\n",
    "quadrati = [x**2 for x in numeri]\n",
    "\n",
    "# Più verboso\n",
    "quadrati = []\n",
    "for x in numeri:\n",
    "    quadrati.append(x**2)\n",
    "```\n",
    "\n",
    "### 3. Evita loop annidati profondi\n",
    "Se hai più di 2-3 livelli, considera di estrarre funzioni\n",
    "\n",
    "## 🔍 Debug Checklist\n",
    "\n",
    "- [ ] Ho messo `:` dopo ogni `if`, `elif`, `else`, `for`, `while`?\n",
    "- [ ] L'indentazione è consistente (4 spazi)?\n",
    "- [ ] Il mio `while` ha una condizione che può diventare `False`?\n",
    "- [ ] Sto usando `==` per confrontare, non `=`?\n",
    "- [ ] Il mio `range()` include tutti i valori necessari?\n",
    "- [ ] Ho considerato cosa succede con liste vuote?\n",
    "\n",
    "## 📊 Schema Decisionale\n",
    "\n",
    "```\n",
    "Devo ripetere qualcosa?\n",
    "    ├─ SÌ → Conosco gli elementi/numero?\n",
    "    │       ├─ SÌ → usa FOR\n",
    "    │       └─ NO → usa WHILE\n",
    "    └─ NO → Devo scegliere?\n",
    "            ├─ SÌ → usa IF-ELIF-ELSE\n",
    "            └─ NO → codice sequenziale\n",
    "```\n"
   ]
  },
  {
   "cell_type": "code",
   "execution_count": null,
   "metadata": {},
   "outputs": [],
   "source": []
  }
 ],
 "metadata": {
  "hide_input": false,
  "kernelspec": {
   "display_name": "Python 3 (ipykernel)",
   "language": "python",
   "name": "python3"
  },
  "language_info": {
   "codemirror_mode": {
    "name": "ipython",
    "version": 3
   },
   "file_extension": ".py",
   "mimetype": "text/x-python",
   "name": "python",
   "nbconvert_exporter": "python",
   "pygments_lexer": "ipython3",
   "version": "3.13.5"
  },
  "toc": {
   "base_numbering": 1,
   "nav_menu": {},
   "number_sections": true,
   "sideBar": true,
   "skip_h1_title": true,
   "title_cell": "Table of Contents",
   "title_sidebar": "Contents",
   "toc_cell": false,
   "toc_position": {},
   "toc_section_display": true,
   "toc_window_display": false
  },
  "varInspector": {
   "cols": {
    "lenName": 16,
    "lenType": 16,
    "lenVar": 40
   },
   "kernels_config": {
    "python": {
     "delete_cmd_postfix": "",
     "delete_cmd_prefix": "del ",
     "library": "var_list.py",
     "varRefreshCmd": "print(var_dic_list())"
    },
    "r": {
     "delete_cmd_postfix": ") ",
     "delete_cmd_prefix": "rm(",
     "library": "var_list.r",
     "varRefreshCmd": "cat(var_dic_list()) "
    }
   },
   "types_to_exclude": [
    "module",
    "function",
    "builtin_function_or_method",
    "instance",
    "_Feature"
   ],
   "window_display": false
  }
 },
 "nbformat": 4,
 "nbformat_minor": 4
}
