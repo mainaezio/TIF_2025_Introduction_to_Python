{
 "cells": [
  {
   "cell_type": "markdown",
   "metadata": {},
   "source": [
    "<H1 style=\"font-size:50px\">8: Grafici</H1>\n",
    "\n",
    "<div style = \"width:95%; padding:5px 10px 5px;  margin:50px 0px 10px 10px; font-size:18px\">\n",
    "<UL>\n",
    "    <LI> Come creare un oggetto grafico\n",
    "    <LI> Come disegnare un set di punti\n",
    "    <LI> Gli elementi di un grafico\n",
    "    <LI> Come disegnare una o più funzioni\n",
    "    <LI> Come fare plot logaritmici\n",
    "    <LI> Come fare gli istogrammi\n",
    "    <LI> Come salvare un plot su file\n",
    "    <LI> Cos'è e come fare un plot parametrico\n",
    "</UL>\n",
    "</div>\n",
    "\n",
    "<hr>\n",
    "\n",
    "## Nozioni fondamentali\n",
    "Potete trovare una eccellente introduzione a Matplotlib nella Sezione 5 di<br/> \n",
    "[Robert Johanson - Scientific Computing with Python](http://raw.github.com/jrjohansson/scientific-python-lectures/master/Scientific-Computing-with-Python.pdf)<br/>\n",
    "Johanson utilizza lo stesso approccio \"object oriented\" che viene adottato in queste lezioni."
   ]
  },
  {
   "cell_type": "code",
   "execution_count": 1,
   "metadata": {},
   "outputs": [],
   "source": [
    "import matplotlib.pyplot as plt\n",
    "import numpy as np"
   ]
  },
  {
   "cell_type": "markdown",
   "metadata": {},
   "source": [
    "<div style= 'padding:20px 20px 0px 150px;'>\n",
    "    <img src=\"../Humour/MisleadingGraphs.jpg\" width=\"500\" align=\"center\"/>\n",
    "</div>"
   ]
  },
  {
   "cell_type": "markdown",
   "metadata": {},
   "source": [
    "Il modo pi&ugrave; semplice per iniziare un grafico &egrave; la funzione `subplots`. La chiamata a `subplots` restituisce un oggetto di tipo `Figure`, che corrisponde alla pagina in cui il plot (o il gruppo di plot) &egrave; contenuto, e uno o più oggetti di tipo `AxesSubplot` che corrispondono ai singoli grafici. I plot si costruiscono applicando i metodi opportuni ai corrispondenti oggetti.<BR>\n",
    "In Jupyter il grafico viene mostrato quando si esegue la cella. Se non chiamiamo alcun metodo per costruire il grafico, viene mostrato un plot elementare con parametri di default.\n",
    "    \n",
    "Nella cella seguente l'oggetto di tipo `Figure` viene assegnato alla variabile `fig`. L'oggetto (o gli oggetti) di tipo  `AxesSubplot` viene assegnato\n",
    "alla variabile `ax`. Il numero e la disposizione dei subplot &egrave; controllato dai due parametri `nrows`, il numero di righe, e `ncols` (il numero di colonne). Il numero di subplot &egrave; uguale a `nrows`$\\times$`ncols`."
   ]
  },
  {
   "cell_type": "code",
   "execution_count": null,
   "metadata": {},
   "outputs": [],
   "source": [
    "fig, ax = plt.subplots(nrows=1, ncols=1, figsize=(8, 5))\n",
    "print('fig:', type(fig))\n",
    "print(' ax:', type(ax))"
   ]
  },
  {
   "cell_type": "markdown",
   "metadata": {},
   "source": [
    "Nel caso ci siano pi&ugrave; plot questi vengono assegnati ad una ntupla:"
   ]
  },
  {
   "cell_type": "code",
   "execution_count": null,
   "metadata": {},
   "outputs": [],
   "source": [
    "fig, (ax_1, ax_2) = plt.subplots(nrows=1, ncols=2, figsize=(8, 5))"
   ]
  },
  {
   "cell_type": "code",
   "execution_count": null,
   "metadata": {},
   "outputs": [],
   "source": [
    "fig, (ax_1, ax_2) = plt.subplots(nrows=2, ncols=1, figsize=(8, 5))"
   ]
  },
  {
   "cell_type": "code",
   "execution_count": null,
   "metadata": {},
   "outputs": [],
   "source": [
    "fig, ax_tuple = plt.subplots(nrows=2, ncols=1, figsize=(8, 5))"
   ]
  },
  {
   "cell_type": "markdown",
   "metadata": {},
   "source": [
    "## Grafico di una lista di  numeri. Plot e Scatterplots\n",
    "Ciascuna curva nel grafico si genera con una chiamata al metodo `plot` applicato all'oggetto di tipo `AxesSubplot` restituito da `subplots`. Per disegnare set di punti si usa il metodo `scatter`. Sia `plot` che `scatter` richiedono un set di punti le cui coordinate `(x,y)` vengono passate in due `nd.array` oppure due `liste`. La prima lista contiene le coordinate `x`, la seconda le coordinate `y`. "
   ]
  },
  {
   "cell_type": "code",
   "execution_count": null,
   "metadata": {},
   "outputs": [],
   "source": [
    "fig1, ax1 = plt.subplots(nrows=1, ncols=1, figsize=(8, 5))\n",
    "ax1.plot(np.array([1, 2, 4, 3]))   # Valori dell'ordinata. I valori dell'ascissa sono impliciti."
   ]
  },
  {
   "cell_type": "code",
   "execution_count": null,
   "metadata": {},
   "outputs": [],
   "source": [
    "fig1, ax1 = plt.subplots(nrows=1, ncols=1, figsize=(8, 5))\n",
    "ax1.plot(np.array([1, 2, 3, 4]),np.array([1, 4, 9, 16]))    # Valori dell'ascissa. Valori dell'ordinata."
   ]
  },
  {
   "cell_type": "code",
   "execution_count": null,
   "metadata": {},
   "outputs": [],
   "source": [
    "fig1, ax1 = plt.subplots(nrows=1, ncols=1, figsize=(8, 5))\n",
    "ax1.scatter(np.array([1, 2, 3, 4]),np.array([1, 4, 9, 16]))    # Valori dell'ascissa. Valori dell'ordinata."
   ]
  },
  {
   "cell_type": "markdown",
   "metadata": {},
   "source": [
    "## Titoli, Nomi degli assi, Colori, LineStyle\n",
    "\n",
    "&Egrave; possibile marcare i punti utlizzati in `plot` e `scatter` con un simbolo.\n",
    "`marker` determina il tipo simbolo usato ('o' corrisponde a pallini). `c` oppure `color` determina il colore del simbolo: 'b' significa blue (red: 'r', green: 'g', nero: '0', ). Nel caso di curve, `linestyle` determina il tipo di linea: per esempio `solid`, `dashed`, `dotted`, `dashdot`. Nelle chiamate a `plot` di default non ci sono marker e i punti sono uniti da linee.<BR>\n",
    "I metodi `set_title`, `set_xlabel`, `set_ylabel` assegnano titoli al plot, all'asse delle ordinate, all'asse delle ascisse."
   ]
  },
  {
   "cell_type": "code",
   "execution_count": null,
   "metadata": {},
   "outputs": [],
   "source": [
    "fig2, ax2 = plt.subplots(figsize=(5, 7)) \n",
    "ax2.set_ylabel('some function')\n",
    "ax2.set_xlabel('Some variable')\n",
    "ax2.set_title('ScatterPlot 1')\n",
    "ax2.scatter(np.array([1, 2, 3, 4]), np.array([1, 4, 9, 16]), marker='s', c='0') "
   ]
  },
  {
   "cell_type": "code",
   "execution_count": null,
   "metadata": {},
   "outputs": [],
   "source": [
    "fig2, ax2 = plt.subplots(figsize=(5, 7)) \n",
    "ax2.set_ylabel('y')\n",
    "ax2.set_xlabel('x')\n",
    "ax2.set_title('Plot 1')\n",
    "ax2.plot(np.array([1, 2, 3, 4]), np.array([1, 4, 9, 16]), linestyle='dashed', color='red') "
   ]
  },
  {
   "cell_type": "markdown",
   "metadata": {},
   "source": [
    "### Estremi degli assi\n",
    "Di default, Matplotlib sceglie gli estremi degli assi in modo che tutti i punti che vengono passati al comando `plot` o `scatterplot` siano visibili nel grafico. L'utente pu&ograve; per&ograve; fissare gli estremi degli assi con `set_xlim`, `set_ylim`. I punti che non rientrano nei range definiti da `set_xlim`, `set_ylim` non vengono mostrati."
   ]
  },
  {
   "cell_type": "code",
   "execution_count": null,
   "metadata": {},
   "outputs": [],
   "source": [
    "fig, ax = plt.subplots(figsize=(10, 8))\n",
    "ax.plot(np.array([1, 2, 3, 4]), np.array([1, 4, 9, 16]), c='b', label='g1')\n",
    "ax.set_xlim(-1., 2.5)\n",
    "ax.set_ylim(-1.5, 10.)"
   ]
  },
  {
   "cell_type": "markdown",
   "metadata": {},
   "source": [
    "### Griglie\n",
    "\n",
    "Le griglie sono linee chiare, parallele agli assi coordinati, che facilitano la lettura delle coordinate dei punti di un grafico. Il default &egrave; che non vengano disegnate."
   ]
  },
  {
   "cell_type": "code",
   "execution_count": null,
   "metadata": {},
   "outputs": [],
   "source": [
    "fig, ax = plt.subplots(figsize=(10, 8))\n",
    "x = np.linspace(0, 4, 201)\n",
    "ax.plot(x, x*x)\n",
    "ax.grid()"
   ]
  },
  {
   "cell_type": "markdown",
   "metadata": {},
   "source": [
    "help(ax.grid) per ulteriori informazioni"
   ]
  },
  {
   "cell_type": "markdown",
   "metadata": {},
   "source": [
    "### Linee verticali/orizzontali \n",
    "\n",
    "Si possono disegnare linee verticali oppure orizzontali con i metodi `vlines` e `hlines`."
   ]
  },
  {
   "cell_type": "code",
   "execution_count": null,
   "metadata": {},
   "outputs": [],
   "source": [
    "fig, ax = plt.subplots(figsize=(10, 8))\n",
    "x = np.linspace(-2, 2, 201)\n",
    "ax.plot(x, x**3)\n",
    "ax.hlines(1., -2., 2., colors='r')   # coordinata y, estremo sinistro, estremo destro\n",
    "ax.vlines(-1., -6., 4., colors='0')  # coordinata x, estremo inferiore, estremo superiore\n",
    "ax.grid()"
   ]
  },
  {
   "cell_type": "markdown",
   "metadata": {},
   "source": [
    "## Fare il grafico di una funzione nota `f(x)`\n",
    "\n",
    "Il modo più semplice per fare il grafico di una funzione `f(x)` &egrave;:\n",
    "\n",
    "- Generare un set apportuno `xval` di ascisse in cui calcolare i valori di `f`, tipicamente usando `arange` o `linspace`.\n",
    "- Scrivere una funzione che restituisca i valori `yval` di `f(x)` nei punti `xval`.\n",
    "- Costruire il grafico usando il metodo `plt.plot(xval,yval,......)`"
   ]
  },
  {
   "cell_type": "code",
   "execution_count": null,
   "metadata": {},
   "outputs": [],
   "source": [
    "def my_f(x):\n",
    "    return 2*x**3 + 3*x**2 - 12*x -10\n",
    "\n",
    "\n",
    "xval = np.arange(-4, 3, 0.1)\n",
    "yval = my_f(xval)\n",
    "\n",
    "fig, ax = plt.subplots(figsize=(8, 6))\n",
    "\n",
    "ax.set_xlabel('x coordinate')\n",
    "ax.set_ylabel('my_f(x)')\n",
    "ax.set_title('Plot of my_f')\n",
    "ax.grid()\n",
    "\n",
    "ax.plot(xval, yval); # Il ; alla fine del comando plot elimina la stampa della locazione in memoria del plot"
   ]
  },
  {
   "cell_type": "markdown",
   "metadata": {},
   "source": [
    "<div style = \"width:95%; padding:5px 10px 5px; border-style:solid; border-width:0px 0px 0px 10px; border-color:#b8d0d0; margin:20px 0px 10px 10px\">\n",
    "    <h4> Imparare Facendo</h4>\n",
    "    \n",
    "<OL>\n",
    "<LI>Fate il grafico di y(x) = cos(x)/(x**2+1) nell'intervallo -5 < x < 2 usando una linea rossa. Introducete nomi opportuni per gli assi. Inserite una griglia per semplificare la lettura del plot.\n",
    "</OL>\n",
    "</div>"
   ]
  },
  {
   "cell_type": "markdown",
   "metadata": {},
   "source": [
    "## Accortezze per fare un grafico che sia sensato e utile"
   ]
  },
  {
   "cell_type": "markdown",
   "metadata": {},
   "source": [
    "### Scegliere il range appropriato"
   ]
  },
  {
   "cell_type": "code",
   "execution_count": null,
   "metadata": {},
   "outputs": [],
   "source": [
    "\n",
    "def f1(x):\n",
    "    return (x**2 - 5*x -2)*np.exp(-x**2)\n",
    "\n",
    "xval = np.linspace(10.,25.,151)\n",
    "yval = f1(xval)\n",
    "\n",
    "fig, ax = plt.subplots(figsize=(8, 5))\n",
    "ax.set_xlim(10., 25.)\n",
    "\n",
    "ax.plot(xval, yval);"
   ]
  },
  {
   "cell_type": "markdown",
   "metadata": {},
   "source": [
    "### Utilizzate un numero appropriato di punti"
   ]
  },
  {
   "cell_type": "code",
   "execution_count": null,
   "metadata": {},
   "outputs": [],
   "source": [
    "def f2(x):\n",
    "    return np.sin(x**2)/(1. + x**2)\n",
    "\n",
    "xval = np.linspace(0.,5.,21)\n",
    "yval = f2(xval)\n",
    "\n",
    "fig, ax = plt.subplots(figsize=(8, 5))\n",
    "\n",
    "ax.plot(xval, yval);"
   ]
  },
  {
   "cell_type": "code",
   "execution_count": null,
   "metadata": {},
   "outputs": [],
   "source": [
    "def f3(x):\n",
    "    return x*np.cos(x**2)/(1. - x**2)\n",
    "\n",
    "xval = np.linspace(-np.pi,np.pi,21)\n",
    "yval = f3(xval)\n",
    "\n",
    "fig, ax = plt.subplots(figsize=(8, 5))\n",
    "\n",
    "ax.plot(xval, yval);"
   ]
  },
  {
   "cell_type": "markdown",
   "metadata": {},
   "source": [
    "## Plot multipli\n",
    "\n",
    "### Curve multiple in un singolo plot\n",
    "\n",
    "&Egrave; sufficiente dare il comando `plot` su un singolo `ax` per tutte le curve da disegnare"
   ]
  },
  {
   "cell_type": "code",
   "execution_count": null,
   "metadata": {},
   "outputs": [],
   "source": [
    "t = np.arange(0.0, 2*np.pi, 0.01)\n",
    "\n",
    "fig, ax = plt.subplots(figsize=(12, 5))\n",
    "ax.plot(t, np.cos(t), c='r')\n",
    "ax.plot(t, np.cos(2*t), c='b')\n",
    "ax.plot(t, np.cos(10*t), c='g')"
   ]
  },
  {
   "cell_type": "markdown",
   "metadata": {},
   "source": [
    "### Plot multipli in una sola figura.\n",
    "\n",
    "&Egrave; necessario creare, nella chiamata a `plt.subplots`, tanti oggetti di tipo `ax` quanti sono i plot che si vogliono ottenere.\n",
    "Ciascuno dei comandi successivi si riferir&agrave; ad uno specifico oggetto `ax`."
   ]
  },
  {
   "cell_type": "code",
   "execution_count": null,
   "metadata": {},
   "outputs": [],
   "source": [
    "def f(t):\n",
    "    return np.exp(-t) * np.cos(2*np.pi*t)\n",
    "\n",
    "\n",
    "t1 = np.arange(0.0, 5.0, 0.1)\n",
    "t2 = np.arange(0.0, 5.0, 0.02)\n",
    "\n",
    "fig3, (ax3a, ax3b) = plt.subplots(nrows=1, ncols=2, figsize=(14, 5))\n",
    "\n",
    "ax3a.plot(t1, f(t1), marker='o', c='b')\n",
    "ax3a.set_xlabel('x value')\n",
    "ax3a.set_ylabel('f(x)')\n",
    "ax3a.set_title('Plot 1')\n",
    "\n",
    "ax3b.plot(t2, np.cos(2*np.pi*t2), linestyle='--', c='r')\n",
    "ax3b.set_xlabel('x value')\n",
    "ax3b.set_ylabel('cos(2 pi x)')\n",
    "ax3b.set_title('Plot 2')\n",
    "\n",
    "fig3.tight_layout()\n",
    "\n",
    "# Percontrollare lo spazio fra i plot potete usare fig3.tight_layout(pad=3.6)\n",
    "# help(fig3.tight_layout) per ulteriori informazioni\n",
    "\n",
    "# linestyle='-','--',':'"
   ]
  },
  {
   "cell_type": "markdown",
   "metadata": {},
   "source": [
    "Per ottenere quattro plot in due file da due utilizzare:"
   ]
  },
  {
   "cell_type": "code",
   "execution_count": 2,
   "metadata": {},
   "outputs": [
    {
     "data": {
      "image/png": "[encoded data removed]",
      "text/plain": [
       "<Figure size 640x480 with 4 Axes>"
      ]
     },
     "metadata": {},
     "output_type": "display_data"
    }
   ],
   "source": [
    "fig, ((ax1, ax2), (ax3, ax4)) = plt.subplots(nrows=2, ncols=2)"
   ]
  },
  {
   "cell_type": "markdown",
   "metadata": {},
   "source": [
    "Un'altra possibilit&agrave; &egrave; assegnare l'ntupla degli ax ad un unica variabile e poi utilizzare gli indici. In questo modo &egrave; possibile fare un ciclo `for` sui plot:"
   ]
  },
  {
   "cell_type": "code",
   "execution_count": 5,
   "metadata": {},
   "outputs": [
    {
     "data": {
      "text/plain": [
       "[<matplotlib.lines.Line2D at 0x116e31450>]"
      ]
     },
     "execution_count": 5,
     "metadata": {},
     "output_type": "execute_result"
    },
    {
     "data": {
      "image/png": "[encoded data removed]",
      "text/plain": [
       "<Figure size 640x480 with 4 Axes>"
      ]
     },
     "metadata": {},
     "output_type": "display_data"
    }
   ],
   "source": [
    "fig1, my_ax = plt.subplots(nrows=2, ncols=2)\n",
    "my_ax[0][1].plot(np.array([1, 2, 3]))\n",
    "# oppure\n",
    "my_ax[1,0].plot(np.array([1, 2, 1]))"
   ]
  },
  {
   "cell_type": "markdown",
   "metadata": {},
   "source": [
    "### Titolo centrato per tutta la figura"
   ]
  },
  {
   "cell_type": "code",
   "execution_count": null,
   "metadata": {},
   "outputs": [],
   "source": [
    "fig1, my_ax = plt.subplots(nrows=2, ncols=2)\n",
    "my_ax[0, 1].plot(np.array([1, 2, 3]))\n",
    "my_ax[0, 1].set_title(\"One line\")\n",
    "plt.suptitle(\"Four Plots with one line\");\n",
    "fig1.tight_layout()"
   ]
  },
  {
   "cell_type": "markdown",
   "metadata": {},
   "source": [
    "## Salvare una figura in un file\n",
    "\n",
    "L'estensione del file determina il formato in cui viene salvata la figura"
   ]
  },
  {
   "cell_type": "code",
   "execution_count": null,
   "metadata": {},
   "outputs": [],
   "source": [
    "fig3.savefig('plot3.pdf')\n",
    "fig3.savefig('plot3.jpg')"
   ]
  },
  {
   "cell_type": "markdown",
   "metadata": {},
   "source": [
    "<div style = \"width:95%; padding:5px 10px 5px; border-style:solid; border-width:0px 0px 0px 10px; border-color:#b8d0d0; margin:20px 0px 10px 10px\">\n",
    "    <h4> Imparare Facendo</h4>\n",
    "    \n",
    "<OL>\n",
    "<LI>Fate il grafico di y1(x) = cos(x)/(x**2+1) e y2(x) = (cos(x)+x)/(x**2+1) nell'intervallo -5 < x < 2 in un unico plot. Introducete nomi opportuni per gli assi. Inserite una griglia per semplificare la lettura del plot.\n",
    "<LI>Fate il grafico di y1(x) = cos(x) e y2(x) = cos(x)+x nell'intervallo -2 < x < 2 in due plot affiancati. Utilizzate colori diversi per le due curve. Introducete nomi opportuni per gli assi di entrambi i plot.\n",
    "</OL>\n",
    "</div>"
   ]
  },
  {
   "cell_type": "markdown",
   "metadata": {},
   "source": [
    "## Plot logaritmici\n",
    "\n",
    "Per avere una scala logaritmica sull'asse `x`, `y` si usano i metodi `set_xscale('log')`, `set_yscale('log')` sugli oggetti di tipo `AxesSubplot`"
   ]
  },
  {
   "cell_type": "code",
   "execution_count": null,
   "metadata": {},
   "outputs": [],
   "source": [
    "fig4, (ax4a, ax4b) = plt.subplots(nrows=1, ncols=2, figsize=(14, 7))\n",
    "\n",
    "t = np.arange(0.01, 20.0, 0.01)\n",
    "\n",
    "# log y axis\n",
    "ax4a.set_yscale('log')\n",
    "ax4a.plot(t, np.exp(-t/5.0))\n",
    "ax4a.set_xlabel('x value')\n",
    "ax4a.set_ylabel('exp(-t/5.0)')\n",
    "ax4a.set_title('semilogy')\n",
    "ax4a.grid(visible=True, which='both')\n",
    "\n",
    "# log x axis\n",
    "ax4b.set_xscale('log')\n",
    "ax4b.plot(t, np.sin(2*np.pi*t))\n",
    "ax4b.set_xlabel('x value')\n",
    "ax4b.set_ylabel('sin(2*pi*t)')\n",
    "ax4b.set_title('semilogx')\n",
    "ax4b.grid(visible=True, which='both')\n"
   ]
  },
  {
   "cell_type": "markdown",
   "metadata": {},
   "source": [
    "Di default vengono utilizzati logaritmi in base 10. &Egrave; possibile specificare una base diversa:"
   ]
  },
  {
   "cell_type": "code",
   "execution_count": null,
   "metadata": {},
   "outputs": [],
   "source": [
    "t = np.arange(0.01, 20.0, 0.01)\n",
    "\n",
    "fig5, ax5 = plt.subplots(nrows=1, ncols=1, figsize=(7, 7))\n",
    "\n",
    "ax5.set_xscale('log', base=2)\n",
    "ax5.set_yscale('log')\n",
    "ax5.plot(t, t, c='r')\n",
    "ax5.plot(t, t**2, c='b')\n",
    "ax5.grid(visible=True, which='both')\n",
    "ax5.set_title('loglog base 2 on x')"
   ]
  },
  {
   "cell_type": "markdown",
   "metadata": {},
   "source": [
    "I plot logaritmici sono essenziali quando ordinate e/o ascisse variano su molti ordini di grandezza."
   ]
  },
  {
   "cell_type": "code",
   "execution_count": null,
   "metadata": {},
   "outputs": [],
   "source": [
    "t = np.arange(0.01, 10.0, 0.01)\n",
    "\n",
    "fig6, (ax6a, ax6b) = plt.subplots(nrows=1, ncols=2, figsize=(10, 6))\n",
    "\n",
    "ax6a.plot(t, t, c='r')\n",
    "ax6a.plot(t, t**2, c='b')\n",
    "ax6a.plot(t, t**4)\n",
    "ax6a.set_title('linear')\n",
    "ax6a.grid(visible=True, which='both')\n",
    "\n",
    "ax6b.set_yscale('log')\n",
    "ax6b.plot(t, t, c='r')\n",
    "ax6b.plot(t, t**2, c='b')\n",
    "ax6b.plot(t, t**4)\n",
    "ax6b.set_title('y-log')\n",
    "ax6b.grid(visible=True, which='both')"
   ]
  },
  {
   "cell_type": "markdown",
   "metadata": {},
   "source": [
    "<div style = \"width:95%; padding:5px 10px 5px; border-style:solid; border-width:0px 0px 0px 10px; border-color:#b8d0d0; margin:20px 0px 10px 10px\">\n",
    "    <h4> Imparare Facendo</h4>\n",
    "    \n",
    "<OL>\n",
    "<LI>Fate il grafico di y1(x) = np.e**(-x), y2(x) = np.e**(-2*x) nell'intervallo 0 < x < 10, in un unico plot, utilizzando una scala logaritmica per l'asse y. Introducete nomi opportuni per gli assi. Inserite una griglia per semplificare la lettura del plot.\n",
    "</OL>\n",
    "</div>"
   ]
  },
  {
   "cell_type": "markdown",
   "metadata": {},
   "source": [
    "## Istogrammi\n",
    "\n",
    "I dati sono raggruppati in intervalli o bin (contenitori, bidoni) che ricoprono il range di possibili valori della variabile che si sta studiando. L'altezza di ciascun bin &egrave; proporzionale al numero di dati che cadono fra i due valori della variabile che definiscono la base del bin. Cambiando il numero di bin e/o i loro estremi si cambia il plot."
   ]
  },
  {
   "cell_type": "code",
   "execution_count": null,
   "metadata": {},
   "outputs": [],
   "source": [
    "dati = np.array([1.95, 1.96, 1.90, 1.90, 1.84, 1.81, 2.06, 1.99, 1.93, 1.97, 2.02, 1.92,\n",
    "                 1.95, 1.88, 1.87, 2.03, 1.85, 2.08, 1.96, 1.81, 2.07, 1.91, 1.79, 1.99,\n",
    "                 1.97, 1.95, 1.96, 1.93, 1.83, 2.09, 2.02, 2.09, 1.84, 1.86, 1.96, 2.03,\n",
    "                 1.93, 1.90, 1.94, 1.87, 1.97, 1.91, 1.87, 1.81, 2.06, 2.02, 1.96, 1.81,\n",
    "                 1.93, 2.03, 1.92, 1.96, 1.80, 1.95, 1.90, 2.02, 2.03, 1.90, 2.03, 2.02,\n",
    "                 1.96, 1.91, 1.98, 1.87, 1.92, 1.89, 1.84, 2.06, 1.93, 2.06, 1.93, 1.93,\n",
    "                 1.91, 1.90, 1.92, 1.93, 1.86, 1.83, 1.96, 1.81, 2.03, 1.98, 1.84, 1.86,\n",
    "                 1.96, 1.81, 1.98, 1.84, 1.86, 1.96, 1.92, 1.96, 1.85, 2.04, 2.00, 1.92,\n",
    "                 1.90, 2.15, 1.94, 1.92])"
   ]
  },
  {
   "cell_type": "code",
   "execution_count": null,
   "metadata": {},
   "outputs": [],
   "source": [
    "nbins = 10\n",
    "xrange = (1.75, 2.20)    # ntupla"
   ]
  },
  {
   "cell_type": "code",
   "execution_count": null,
   "metadata": {},
   "outputs": [],
   "source": [
    "fig, ax = plt.subplots()\n",
    "nevent, bins, patches = ax.hist(dati, nbins, range=xrange)     # Non è indispensabile assegnare i valori restituiti da `hist`  a\n",
    "   # delle variabili. In questo caso ci serve per esaminarne il contenuto.\n",
    "\n",
    "ax.set_xlabel('variable')\n",
    "ax.set_ylabel('counts')\n",
    "ax.set_title('counts vs variable')"
   ]
  },
  {
   "cell_type": "code",
   "execution_count": null,
   "metadata": {},
   "outputs": [],
   "source": [
    "nevent       # Numero di eventi in ciascun bin"
   ]
  },
  {
   "cell_type": "code",
   "execution_count": null,
   "metadata": {},
   "outputs": [],
   "source": [
    "bins         # Estremi dei bin"
   ]
  },
  {
   "cell_type": "markdown",
   "metadata": {},
   "source": [
    "I patches sono i rettangoli (blu in questo caso) che vengono usati per disegnare l'istogramma."
   ]
  },
  {
   "cell_type": "markdown",
   "metadata": {},
   "source": [
    "<div style = \"width:95%; padding:5px 10px 5px; border-style:solid; border-width:0px 0px 0px 10px; border-color:#b8d0d0; margin:20px 0px 10px 10px\">\n",
    "    <h4> Imparare Facendo</h4>\n",
    "    \n",
    "<OL>\n",
    "<LI>Fate l'istogramma dell'array a = np.array([22,87,5,43,56,73,55,54,11,20,51,5,79,31,27]). Qual'&egrave; un <b>range</b> ragionevole? Variate il numero di bin fra 1 e 10.\n",
    "</OL>\n",
    "</div>"
   ]
  },
  {
   "cell_type": "markdown",
   "metadata": {},
   "source": [
    "## Altri elementi dei plot"
   ]
  },
  {
   "cell_type": "markdown",
   "metadata": {},
   "source": [
    "### Legende\n",
    "\n",
    "La legenda per ciascuna curva viene passata con il parametro `label` nella chiamata a `plot`. Le legende vengono mostrate invocando il metodo `legend` sul singolo garfico. Le curve prive di `label` non vengono incluse nella legenda.\n",
    "Se viene chiamato `legend` e nessuna delle curve ha un `label` si ha un errore."
   ]
  },
  {
   "cell_type": "code",
   "execution_count": null,
   "metadata": {},
   "outputs": [],
   "source": [
    "xc = np.arange(-5.0, 5.0, 0.02)"
   ]
  },
  {
   "cell_type": "code",
   "execution_count": null,
   "metadata": {},
   "outputs": [],
   "source": [
    "def g1(x):\n",
    "    return x*(x-1)/(x**2+1)-1"
   ]
  },
  {
   "cell_type": "code",
   "execution_count": null,
   "metadata": {},
   "outputs": [],
   "source": [
    "yc1 = g1(xc)"
   ]
  },
  {
   "cell_type": "code",
   "execution_count": null,
   "metadata": {},
   "outputs": [],
   "source": [
    "def g2(x):\n",
    "    return (x-1)/(x**2+1)"
   ]
  },
  {
   "cell_type": "code",
   "execution_count": null,
   "metadata": {},
   "outputs": [],
   "source": [
    "yc2 = g2(xc)"
   ]
  },
  {
   "cell_type": "code",
   "execution_count": null,
   "metadata": {},
   "outputs": [],
   "source": [
    "fig, ax = plt.subplots(figsize=(10, 8))\n",
    "ax.set_title('g1=x*(x-1)/(x**2+1)-1, g2=(x-1)/(x**2+1)', fontsize='20')\n",
    "ax.set_xlabel('x value')\n",
    "ax.set_ylabel('g(x)')\n",
    "ax.grid(True)\n",
    "ax.margins(x=0., y=0.05)\n",
    "ax.plot(xc, yc1, c='b', label='pippo rules', linestyle = '--');\n",
    "ax.plot(xc, 3*yc2, 'k', label='g2');\n",
    "ax.plot(xc, yc2, c='g');\n",
    "ax.legend(fontsize='30');"
   ]
  },
  {
   "cell_type": "markdown",
   "metadata": {},
   "source": [
    "### Testo"
   ]
  },
  {
   "cell_type": "markdown",
   "metadata": {},
   "source": [
    "Il prefisso `r` davanti alle stringhe di testo inibisce l'interpretazione dei caratteri di \"escape\" come caratteri speciali. Importante perchè LaTeX usa il carattere \"\\\\\" per introdurre i comandi e \"\\\\\" &egrave; il carattere standard di \"escape\"."
   ]
  },
  {
   "cell_type": "code",
   "execution_count": null,
   "metadata": {},
   "outputs": [],
   "source": [
    "def f0(t, omega, gamma, tau):\n",
    "    wt = omega*t\n",
    "    f1 = np.sin(wt) + (np.cos(wt)-1.0)/wt\n",
    "    f2 = 1.0 + (gamma/omega)*f1\n",
    "    return np.exp(-t*f2/tau)\n",
    "\n",
    "\n",
    "omega = 12.0\n",
    "gamma = 8.0\n",
    "tau = 1.0\n",
    "\n",
    "t = np.linspace(0.01, 10.0, 500)\n",
    "f = f0(t, omega, gamma, tau)\n",
    "\n",
    "fig, ax = plt.subplots(figsize=(7.5, 4.5))\n",
    "ax.plot(t, f)\n",
    "ax.set_ylabel(r'$f_0(t)$', fontsize=14)\n",
    "#ax.set_ylabel('$f_0(t)$', fontsize=14)   # r è superfluo per questa stringa in cui non ci sono caratteri \"escape\"\n",
    "ax.set_xlabel(r'$t/\\tau\\quad\\rm(ms)}$', fontsize=14)\n",
    "#ax.set_xlabel('$t/\\tau\\quad\\rm(ms)}$', fontsize=14)       # r è necessario per questa stringa in cui compare \n",
    "                                                           # il carattere \"\\\" come parte di LaTeX\n",
    "plt.text(1.8, 0.85, r'$\\Gamma(z)=\\int_0^\\infty x^{z-1}e^{-x}dx$', {'color': 'k', 'fontsize': 14})\n",
    "plt.text(4.0, 0.40, r'$\\Gamma(z)=\\int_0^\\infty x^{z-1}e^{-x}dx$', {'color': 'b', 'fontsize': 20})"
   ]
  },
  {
   "cell_type": "markdown",
   "metadata": {},
   "source": [
    "### Subplots\n",
    "\n",
    "Il metodo `plt.axes` permette di creare un nuovo grafico specificando la sua posizione e le sue dimensioni."
   ]
  },
  {
   "cell_type": "code",
   "execution_count": null,
   "metadata": {},
   "outputs": [],
   "source": [
    "def my_f(x):\n",
    "    return 2*x**3 + 3*x**2 - 12*x -10\n",
    "\n",
    "\n",
    "xval = np.arange(-4, 3, 0.1)\n",
    "yval = my_f(xval)\n",
    "\n",
    "fig, ax = plt.subplots(figsize=(8, 6))\n",
    "\n",
    "ax.set_xlabel('x coordinate')\n",
    "ax.set_ylabel('my_f(x)')\n",
    "ax.set_title('Plot of my_f')\n",
    "ax.grid()\n",
    "\n",
    "ax.plot(xval, yval);\n",
    "\n",
    "ax2 = plt.axes([0.3, 0.2, 0.3, 0.2]) # [x_left_lower_corner,y_left_lower_corner,x_width,y_width] \n",
    "                                     # Le coordinate si riferiscono alla intera figura\n",
    "                                     # normalizzate fra 0 e 1\n",
    "\n",
    "xval2 = np.arange(0, 2*np.pi, 0.1)\n",
    "yval2 = np.cos(xval2)\n",
    "ax2.grid()\n",
    "ax2.plot(xval2, yval2);\n"
   ]
  },
  {
   "cell_type": "markdown",
   "metadata": {},
   "source": [
    "## Plot parametrici\n",
    "\n",
    "Spesso per descrivere una curva esprimiamo le coordinate `y` dei punti sulla curva in funzione delle loro coordinate `x`. Per esempio una semicirconferenza centrata nell'origine &egrave; descritta dalla relazione $ y(x) = \\sqrt{r^2 - x^2}$, dove $r$ &egrave; il raggio.<BR>\n",
    "Un modo alternativo di costruire i punti sul cerchio di raggio $r$ &egrave; di notare che possiamo usare come parametro o coordinata l'angolo del punto rispetto all'asse $\\hat{x}$ come:\n",
    "    $$ x(\\theta) = r \\cos\\theta,\\qquad y(\\theta) = r \\sin\\theta$$\n",
    "Se creiamo due array sufficientemente fitti in questo modo, possiamo disegnare una circonferenza nel modo seguente:"
   ]
  },
  {
   "cell_type": "code",
   "execution_count": null,
   "metadata": {},
   "outputs": [],
   "source": [
    "raggio = 3.0\n",
    "npoints = 100\n",
    "step = 2*np.pi/npoints\n",
    "x0 = raggio*np.array([np.cos(i*step) for i in range(npoints+1)])\n",
    "y0 = raggio*np.array([np.sin(i*step) for i in range(npoints+1)])"
   ]
  },
  {
   "cell_type": "code",
   "execution_count": null,
   "metadata": {},
   "outputs": [],
   "source": [
    "fig, ax = plt.subplots(figsize=(10, 10))\n",
    "ax.plot(x0, y0)"
   ]
  },
  {
   "cell_type": "markdown",
   "metadata": {},
   "source": [
    "Provate a vedere cosa succede per npoints = 3,4,8,12."
   ]
  },
  {
   "cell_type": "markdown",
   "metadata": {},
   "source": [
    "Un altro buon esempio &egrave; la traiettoria di una massa nel campo gravitazionale terrestre. Le coordinate `x` e `y` del moto in funzione del tempo sono:\n",
    "- $x(t) = vx_0 t + x_0$\n",
    "- $y(t) = 1/2 g t^2 + vy_0 t + y_0$\n",
    "dove $vx_0, vy_0, x_0, y_0$ sono i valori iniziali di velocit&agrave; e posizione.\n",
    "Il tempo $t$ &egrave; il parametro che determina entrambe le coordinate spaziali.\n",
    "Possiamo facilmente disegnare la traiettoria $y(x)$:"
   ]
  },
  {
   "cell_type": "code",
   "execution_count": null,
   "metadata": {
    "tags": []
   },
   "outputs": [],
   "source": [
    "def x_of_t(t, vx0, x0=0.):\n",
    "    return vx0*t + x0\n",
    "\n",
    "\n",
    "def y_of_t(t, vy0, y0=0, g=9.8):\n",
    "    return -0.5*t*t + vy0*t +y0\n",
    "\n",
    "\n",
    "vx0 = 5.0\n",
    "vy0 = 7.0\n",
    "tmax = 800\n",
    "times = np.array([t/50 for t in range(tmax+1)])\n",
    "\n",
    "x = x_of_t(times, vx0)\n",
    "y = y_of_t(times, vy0)\n",
    "\n",
    "fig, ax = plt.subplots(figsize=(12, 12))\n",
    "ax.grid()\n",
    "ax.set_ylabel(\"y\", {'fontsize':30})\n",
    "ax.set_xlabel(\"x\", {'fontsize':30})\n",
    "ax.set_title(\"y(x) free fall\", {'fontsize':40})\n",
    "\n",
    "ax.plot(x, y);"
   ]
  },
  {
   "cell_type": "markdown",
   "metadata": {},
   "source": [
    "E per concludere:\n",
    "\n",
    "## Problema:\n",
    "\n",
    "Studiare la funzione $g(x)\\, = \\, \\cos \\left( \\frac{x^4 - 5 x^3 - 3 x^2 + 17 x - 10}{x^4 + 2 x^2 + 1} \\right)$"
   ]
  },
  {
   "cell_type": "markdown",
   "metadata": {},
   "source": [
    "<div style = \"width:95%; padding:5px 10px 5px; border-style:solid; border-width:0px 0px 0px 10px; border-color:#ff0000; margin:20px 0px 10px 10px\">\n",
    "    <h4> Attenzione!</h4>\n",
    "La possibilit&agrave; di fare il grafico di una qualsiasi funzione con pochissima fatica richiede di cambiare completamente l'approccio che vi &egrave; stato insegnato alle scuole superiori sul modo di studiare le funzioni. Fare il grafico deve diventare il passo preliminare a qualsiasi altra manipolazione.\n",
    "</div>"
   ]
  },
  {
   "cell_type": "markdown",
   "metadata": {},
   "source": [
    "Informazini addizionali e buoni esempi: https://www.machinelearningplus.com/plots/matplotlib-tutorial-complete-guide-python-plot-examples/"
   ]
  },
  {
   "cell_type": "markdown",
   "metadata": {},
   "source": [
    "# Sommario 8: Grafici con Matplotlib - Guida Essenziale\n",
    "\n",
    "## I Concetti Fondamentali\n",
    "\n",
    "### La Struttura Base: Figure e Axes\n",
    "```python\n",
    "fig, ax = plt.subplots()  # Una figura, un grafico\n",
    "```\n",
    "- **Figure**: La tela/pagina intera\n",
    "- **Axes**: Il singolo grafico (assi + area di plot)\n",
    "- **Regola**: Un `fig` può contenere multipli `ax`\n",
    "\n",
    "### I Due Metodi Principali\n",
    "\n",
    "| `plot()` | `scatter()` |\n",
    "|----------|-------------|\n",
    "| Linee che connettono punti | Punti isolati |\n",
    "| Per funzioni continue | Per dati sperimentali |\n",
    "| Default: linea senza marker | Default: marker senza linea |\n",
    "\n",
    "## Il Workflow Standard per un Grafico\n",
    "\n",
    "### 1. Preparazione dei Dati\n",
    "```python\n",
    "x = np.linspace(start, stop, n_points)\n",
    "y = funzione(x)\n",
    "```\n",
    "\n",
    "### 2. Creazione della Figura\n",
    "```python\n",
    "fig, ax = plt.subplots(figsize=(largh, alt))\n",
    "```\n",
    "\n",
    "### 3. Plot dei Dati\n",
    "```python\n",
    "ax.plot(x, y, color='b', linestyle='-', label='nome')\n",
    "```\n",
    "\n",
    "### 4. Personalizzazione\n",
    "```python\n",
    "ax.set_xlabel('Tempo (s)')\n",
    "ax.set_ylabel('Posizione (m)')\n",
    "ax.set_title('Moto Armonico')\n",
    "ax.grid(True)\n",
    "ax.legend()\n",
    "```\n",
    "\n",
    "### 5. Salvataggio (opzionale)\n",
    "```python\n",
    "fig.savefig('nome.pdf')\n",
    "```\n",
    "\n",
    "## Personalizzazione: I Parametri Chiave\n",
    "\n",
    "### Colori e Stili\n",
    "- **Colori**: `'r'` (rosso), `'b'` (blu), `'g'` (verde), `'k'` (nero)\n",
    "- **Linee**: `'-'` (solida), `'--'` (tratteggiata), `':'` (puntini), `'-.'` (tratto-punto)\n",
    "- **Marker**: `'o'` (cerchi), `'s'` (quadrati), `'^'` (triangoli), `'.'` (punti)\n",
    "\n",
    "### Controllo degli Assi\n",
    "```python\n",
    "ax.set_xlim(xmin, xmax)  # Limiti manuali\n",
    "ax.set_ylim(ymin, ymax)\n",
    "ax.grid(True)             # Griglia\n",
    "ax.set_aspect('equal')    # Rapporto aspetto\n",
    "```\n",
    "\n",
    "## Plot Multipli: Le Tre Situazioni\n",
    "\n",
    "### 1. Pi&ugrave; Curve nello Stesso Plot\n",
    "```python\n",
    "ax.plot(x, y1, label='curva 1')\n",
    "ax.plot(x, y2, label='curva 2')\n",
    "ax.legend()\n",
    "```\n",
    "\n",
    "### 2. Subplot Affiancati\n",
    "```python\n",
    "fig, (ax1, ax2) = plt.subplots(1, 2)\n",
    "ax1.plot(x, y1)\n",
    "ax2.plot(x, y2)\n",
    "```\n",
    "\n",
    "### 3. Subplot in Griglia\n",
    "```python\n",
    "fig, axes = plt.subplots(2, 2)\n",
    "axes[0,0].plot(...)  # Alto sinistra\n",
    "axes[0,1].plot(...)  # Alto destra\n",
    "```\n",
    "\n",
    "## Scale Logaritmiche: Quando e Come\n",
    "\n",
    "### Quando Usarle\n",
    "- Dati che variano su ordini di grandezza\n",
    "- Decadimenti esponenziali\n",
    "- Leggi di potenza\n",
    "\n",
    "### Come Applicarle\n",
    "```python\n",
    "ax.set_xscale('log')  # Solo x logaritmico\n",
    "ax.set_yscale('log')  # Solo y logaritmico\n",
    "# Entrambi logaritmici = log-log plot\n",
    "```\n",
    "\n",
    "## Grafici Specializzati\n",
    "\n",
    "### Istogrammi\n",
    "```python\n",
    "n, bins, patches = ax.hist(dati, bins=n_bins, range=(min, max))\n",
    "```\n",
    "**Uso**: Distribuzione di dati sperimentali\n",
    "\n",
    "### Plot Parametrici\n",
    "```python\n",
    "t = np.linspace(0, 2*np.pi, 100)\n",
    "x = r * np.cos(t)\n",
    "y = r * np.sin(t)\n",
    "ax.plot(x, y)\n",
    "```\n",
    "**Uso**: Traiettorie, orbite, curve complesse\n",
    "\n",
    "## Pattern Utili per la Fisica\n",
    "\n",
    "\n",
    "### Confronto Teoria-Esperimento\n",
    "```python\n",
    "ax.scatter(x_exp, y_exp, label='Sperimentale')\n",
    "ax.plot(x_teo, y_teo, 'r-', label='Teorico')\n",
    "ax.legend()\n",
    "```\n",
    "\n",
    "### Oscillazioni Smorzate\n",
    "```python\n",
    "t = np.linspace(0, 10, 1000)\n",
    "y = A * np.exp(-gamma*t) * np.cos(omega*t)\n",
    "ax.plot(t, y)\n",
    "ax.plot(t, A*np.exp(-gamma*t), 'r--')  # Inviluppo\n",
    "```\n",
    "\n",
    "## Errori Comuni e Soluzioni\n",
    "\n",
    "| Problema | Sintomo | Soluzione |\n",
    "|----------|---------|-----------|\n",
    "| Output `[<matplotlib...>]` | Manca `;` alla fine | Aggiungi `;` dopo plot |\n",
    "| Grafico vuoto | Dati fuori scala | Controlla `xlim`, `ylim` |\n",
    "| Legenda error | Nessun `label` | Aggiungi `label='nome'` |\n",
    "| Testo LaTeX non funziona | `\\` interpretato male | Usa `r'stringa'` |\n",
    "| Plot sovrapposti | `subplots` errato | Verifica `nrows`, `ncols` |\n",
    "\n",
    "## Best Practices\n",
    "\n",
    "### 1. Sempre Etichettare gli Assi\n",
    "```python\n",
    "ax.set_xlabel('Grandezza (unità)')\n",
    "```\n",
    "\n",
    "### 2. Griglia per Leggibilit&agrave;\n",
    "```python\n",
    "ax.grid(True, alpha=0.3)\n",
    "```\n",
    "\n",
    "### 3. Legende per Plot Multipli\n",
    "```python\n",
    "ax.plot(..., label='descrizione')\n",
    "ax.legend(loc='best')\n",
    "```\n",
    "\n",
    "### 4. Figure di Dimensioni Appropriate\n",
    "- Schermo: `figsize=(10, 6)`\n",
    "- Paper: `figsize=(8, 6)`\n",
    "- Presentazione: `figsize=(12, 8)`\n",
    "\n",
    "## Checklist Pre-Consegna\n",
    "\n",
    "- [ ] Assi etichettati con unit&agrave; di misura?\n",
    "- [ ] Titolo descrittivo?\n",
    "- [ ] Legenda se ci sono pi&ugrave; curve?\n",
    "- [ ] Font leggibili (non troppo piccoli)?\n",
    "- [ ] Colori distinguibili?\n",
    "- [ ] Scala appropriata (lineare vs log)?\n",
    "- [ ] Griglia se aiuta la lettura?\n",
    "\n",
    "## Il Consiglio Più Importante\n",
    "\n",
    "**PRIMA grafica, POI analizza**: Fare sempre un plot esplorativo prima di qualsiasi manipolazione matematica. Un grafico vale pi&ugrave; di mille calcoli per capire il comportamento di una funzione o di un dataset.\n"
   ]
  }
 ],
 "metadata": {
  "hide_input": false,
  "kernelspec": {
   "display_name": "Python 3 (ipykernel)",
   "language": "python",
   "name": "python3"
  },
  "language_info": {
   "codemirror_mode": {
    "name": "ipython",
    "version": 3
   },
   "file_extension": ".py",
   "mimetype": "text/x-python",
   "name": "python",
   "nbconvert_exporter": "python",
   "pygments_lexer": "ipython3",
   "version": "3.13.5"
  },
  "toc": {
   "base_numbering": 1,
   "nav_menu": {
    "height": "17px",
    "width": "160px"
   },
   "number_sections": true,
   "sideBar": true,
   "skip_h1_title": true,
   "title_cell": "Table of Contents",
   "title_sidebar": "Contents",
   "toc_cell": false,
   "toc_position": {},
   "toc_section_display": true,
   "toc_window_display": false
  },
  "varInspector": {
   "cols": {
    "lenName": 16,
    "lenType": 16,
    "lenVar": 40
   },
   "kernels_config": {
    "python": {
     "delete_cmd_postfix": "",
     "delete_cmd_prefix": "del ",
     "library": "var_list.py",
     "varRefreshCmd": "print(var_dic_list())"
    },
    "r": {
     "delete_cmd_postfix": ") ",
     "delete_cmd_prefix": "rm(",
     "library": "var_list.r",
     "varRefreshCmd": "cat(var_dic_list()) "
    }
   },
   "types_to_exclude": [
    "module",
    "function",
    "builtin_function_or_method",
    "instance",
    "_Feature"
   ],
   "window_display": false
  }
 },
 "nbformat": 4,
 "nbformat_minor": 4
}
