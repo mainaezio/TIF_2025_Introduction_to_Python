{
 "cells": [
  {
   "cell_type": "markdown",
   "id": "0786a2f4-4230-41bf-aa45-48cbce703fe3",
   "metadata": {},
   "source": []
  },
  {
   "cell_type": "markdown",
   "id": "1dc1197d-93de-46af-ae5c-53dfbae75ec5",
   "metadata": {},
   "source": [
    "<div style= 'padding:20px 20px 0px 150px;'>\n",
    "    <img src=\"../Images/elefante_maxresdefault-e1521627142360.webp\" width=\"600\" align=\"center\"/>\n",
    "</div>"
   ]
  },
  {
   "cell_type": "code",
   "execution_count": null,
   "id": "6158e322-485d-40ed-809f-ed5fe895f31a",
   "metadata": {},
   "outputs": [],
   "source": []
  }
 ],
 "metadata": {
  "kernelspec": {
   "display_name": "Python 3 (ipykernel)",
   "language": "python",
   "name": "python3"
  },
  "language_info": {
   "codemirror_mode": {
    "name": "ipython",
    "version": 3
   },
   "file_extension": ".py",
   "mimetype": "text/x-python",
   "name": "python",
   "nbconvert_exporter": "python",
   "pygments_lexer": "ipython3",
   "version": "3.13.5"
  }
 },
 "nbformat": 4,
 "nbformat_minor": 5
}
