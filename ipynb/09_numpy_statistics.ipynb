{
 "cells": [
  {
   "cell_type": "markdown",
   "metadata": {},
   "source": [
    "<H1 style=\"font-size:50px\">9: Statistica Elementare con Numpy e Matplotlib</H1>\n",
    "\n",
    "<div style = \"width:95%; padding:5px 10px 5px;  margin:50px 0px 10px 10px; font-size:18px\">\n",
    "<UL>\n",
    "    <LI> Le funzioni statistiche fondamentali in Numpy\n",
    "    <LI> Come disegnare l'istogramma delle frequenze\n",
    "    <LI> Come e perchè generare numeri casuali secondo una distribuzione data\n",
    "</UL>\n",
    "</div>\n",
    "\n",
    "<hr>\n",
    "\n",
    "        \n",
    "## Nozioni fondamentali\n",
    "La statistica ha un ruolo fondamentale in Fisica e in ogni campo scientifico a base sperimentale. Numpy fornisce tutti i metodi necessari per la manipolazione statistica dei dati. Affrontiamo questo argomento dopo aver introdotto Matplotlib perch&eacute;\n",
    "la rappresentazione grafica dei dati &egrave; uno strumento estremamente utile.\n",
    "\n",
    "<div style= 'padding:20px 20px 0px 150px;'>\n",
    "    <img src=\"../Humour/extrapolating1.png\" width=\"500\" align=\"center\"/>\n",
    "</div>"
   ]
  },
  {
   "cell_type": "code",
   "execution_count": null,
   "metadata": {},
   "outputs": [],
   "source": [
    "import numpy as np\n",
    "import matplotlib.pyplot as plt"
   ]
  },
  {
   "cell_type": "markdown",
   "metadata": {},
   "source": [
    "Dati in un array numpy."
   ]
  },
  {
   "cell_type": "code",
   "execution_count": null,
   "metadata": {},
   "outputs": [],
   "source": [
    "dati = np.array([1.95, 1.96, 1.90, 1.91, 1.84, 1.81, 2.06, 1.99, 1.93, 1.97,\n",
    "                 2.02, 1.92, 1.95, 1.88, 1.87, 2.03, 1.85, 2.08, 1.96, 1.81,\n",
    "                 2.07, 1.91, 1.79, 1.99, 1.97, 1.95, 1.96, 1.93, 1.83, 2.09,\n",
    "                 2.02, 2.09, 1.84, 1.86, 1.96, 2.03, 1.93, 1.90, 1.94, 1.87,\n",
    "                 1.97, 1.91, 1.87, 1.81, 2.06, 2.02, 1.96, 1.81, 1.93, 2.03,\n",
    "                 1.92, 1.96, 1.80, 1.95, 1.91, 2.02, 2.03, 1.90, 2.03, 2.02,\n",
    "                 1.96, 1.90, 1.98, 1.87, 1.92, 1.89, 1.84, 2.06, 1.93, 2.06,\n",
    "                 1.93, 1.93, 1.90, 1.91, 1.90, 1.93, 1.86, 1.83, 1.96, 1.81,\n",
    "                 2.03, 1.98, 1.84, 1.86, 1.96, 1.81, 1.98, 1.84, 1.86, 1.96,\n",
    "                 1.92, 1.96, 1.85, 2.04, 2.00, 1.92, 1.90, 2.15, 1.94, 1.92])"
   ]
  },
  {
   "cell_type": "code",
   "execution_count": null,
   "metadata": {},
   "outputs": [],
   "source": [
    "num_elementi = dati.size\n",
    "print(num_elementi)"
   ]
  },
  {
   "cell_type": "markdown",
   "metadata": {},
   "source": [
    "Dati al quadrato"
   ]
  },
  {
   "cell_type": "code",
   "execution_count": null,
   "metadata": {},
   "outputs": [],
   "source": [
    "dati_sq = dati*dati"
   ]
  },
  {
   "cell_type": "markdown",
   "metadata": {},
   "source": [
    "Il valor medio o media di un insieme di dati $x = [x_1,\\cdots,x_n]$ &egrave;\n",
    "$$ <x> = \\frac{\\sum_{i=1}^n x_i}{n} $$\n",
    "Numpy fornisce il metodo `mean` per calcolarla:"
   ]
  },
  {
   "cell_type": "code",
   "execution_count": null,
   "metadata": {},
   "outputs": [],
   "source": [
    "media = dati.mean()\n",
    "print(media)"
   ]
  },
  {
   "cell_type": "markdown",
   "metadata": {},
   "source": [
    "La varianza di un insieme di dati $x = [x_1,\\cdots,x_n]$ &egrave;\n",
    "$$ \\sigma^2  = \\,\\, <(x - <x>)^2> \\,\\, = \\frac{\\sum_{i=1}^n (x_i-<x>)^2}{n} = \\,\\,<x^2> -<x>^2$$\n",
    "Numpy fornisce il metodo `var` per calcolarla:"
   ]
  },
  {
   "cell_type": "code",
   "execution_count": null,
   "metadata": {},
   "outputs": [],
   "source": [
    "varianza = dati.var()\n",
    "print(varianza)"
   ]
  },
  {
   "cell_type": "markdown",
   "metadata": {},
   "source": [
    "La deviazione standard, $\\sigma = \\sqrt{\\sigma^2}$, si calcola usando il metodo `std`:"
   ]
  },
  {
   "cell_type": "code",
   "execution_count": null,
   "metadata": {},
   "outputs": [],
   "source": [
    "deviazione_std = dati.std()\n",
    "print(deviazione_std)"
   ]
  },
  {
   "cell_type": "markdown",
   "metadata": {},
   "source": [
    "Talvolta &egrave; utile estrarre i dati pi&ugrave; vicini di un numero dato di deviazioni standard al valor medio, oppure quelli che distano pi&ugrave;\n",
    "di un numero dato di deviazioni standard dal valor medio. Nell'esempio selezioniamo i dati all'interno di una deviazione standard:"
   ]
  },
  {
   "cell_type": "code",
   "execution_count": null,
   "metadata": {},
   "outputs": [],
   "source": [
    "dati1 = np.array([n for n in dati if np.absolute(n - media) < deviazione_std])"
   ]
  },
  {
   "cell_type": "code",
   "execution_count": null,
   "metadata": {},
   "outputs": [],
   "source": [
    "print(dati1.size)"
   ]
  },
  {
   "cell_type": "markdown",
   "metadata": {},
   "source": [
    "<div style = \"width:95%; padding:5px 10px 5px; border-style:solid; border-width:0px 0px 0px 10px; border-color:#b8d0d0; margin:20px 0px 10px 10px\">\n",
    "    <h4> Imparare Facendo</h4>\n",
    "<OL>\n",
    "<LI>\n",
    "Dato l'array\n",
    "<code>\n",
    "my_arr = np.array([3.04645601, 2.97244915, 3.11895648, 2.23631771, 2.83300643,\n",
    "       2.05404508, 2.75985706, 2.26921367, 1.37480605, 2.02558085,\n",
    "       2.03489553, 2.9879711 , 1.96904577, 2.26633488, 2.25061096,\n",
    "       2.19332838, 2.01392679, 3.11555729, 1.86606049, 3.05021054,\n",
    "       3.03353987, 2.31818007, 2.79232123, 3.33861491, 3.28415856,\n",
    "       1.99223361, 2.84573136, 1.79728384, 3.02507785, 1.66469195,\n",
    "       1.9154713 , 2.43314196, 1.86340421, 1.90131182, 2.09963155,\n",
    "       2.12451288, 1.77265763, 1.81662815, 2.0122717 , 2.82934715,\n",
    "       1.72616883, 2.86297194, 2.9404613 , 2.96369557, 1.8376963 ,\n",
    "       1.81889892, 2.08233386, 1.86941276, 1.83248482, 3.12861456,\n",
    "       1.54804543, 2.89724744, 2.97500892, 2.28660094, 3.51159172,\n",
    "       1.64804177, 2.9250396 , 2.98698285, 2.17577323, 2.43331005,\n",
    "       2.03573614, 2.96237528, 3.14320927, 2.13393559, 2.55083613,\n",
    "       1.72551903, 1.56344938, 3.31847721, 3.19368425, 2.81418586,\n",
    "       2.79420806, 2.88605616, 2.08231959, 1.68927766, 1.89277468,\n",
    "       2.03634711, 3.01241034, 1.95824444, 1.84229893, 1.79093756,\n",
    "       2.16777509, 1.91055935, 2.16076815, 1.99936357, 2.42660732,\n",
    "       2.09021026, 3.25206981, 2.55240002, 2.83482414, 2.0150959 ,\n",
    "       3.31566771, 3.58996448, 2.58405186, 2.74445492, 2.80650089,\n",
    "       1.25237511, 2.04484102, 1.95878434, 1.99383903, 1.63776293,\n",
    "       3.08590679, 3.42000501, 1.69301131, 1.45661319, 2.75442641,\n",
    "       3.01573607, 2.64220989, 2.37487723, 1.83034393, 1.74794294,\n",
    "       1.92414741, 2.91175392, 3.25243102, 2.91543309, 3.22180813,\n",
    "       1.89410574, 1.83451938, 1.60409685, 3.24371334, 2.04293352,\n",
    "       2.89538543, 2.05009924, 2.20696778, 2.05073664, 1.83387137,\n",
    "       2.07646022, 3.34614149, 3.30588549, 3.25491247, 1.55441846,\n",
    "       2.19207954, 2.11273179, 2.92539792, 3.19288315, 1.2374957 ,\n",
    "       2.17409141, 1.76835303, 2.12725474, 2.91318578, 2.96264334,\n",
    "       2.18750678, 1.96060764, 3.41421698, 2.78839075, 1.56933989,\n",
    "       1.64822396, 1.8383093 , 1.49851104, 3.03809049, 2.84892792,\n",
    "       1.6809436 , 3.12957714, 3.01568747, 1.87809285, 1.71435392,\n",
    "       1.83658257, 1.94510093, 3.04703205, 2.97698006, 1.99492519,\n",
    "       3.07521061, 1.96260647, 2.91868837, 1.94448569, 2.96816534,\n",
    "       2.90343856, 2.33124355, 1.88310601, 1.93171459, 2.54151343])\n",
    "</code>\n",
    "calcolate la sua media e deviazione standard usando la loro definizione e la funzione <b>np.sum</b>.\n",
    "</LI>\n",
    "<LI>\n",
    "Calcolate media e deviazione standard di <code>my_arr</code> usando i metodi <b>mean</b> e <b>var</b>.\n",
    "</LI>\n",
    "</OL>\n",
    "</div>"
   ]
  },
  {
   "cell_type": "markdown",
   "metadata": {},
   "source": [
    "## Istogramma delle frequenze\n",
    "\n",
    "L'istogramma delle frequenze &egrave; sovente il modo migliore per un primo esame dei dati, mostrando con quale frequenza i valori in un dato intervallo o bin appaiono nei dati."
   ]
  },
  {
   "cell_type": "code",
   "execution_count": null,
   "metadata": {},
   "outputs": [],
   "source": [
    "min = dati.min()\n",
    "print(min)"
   ]
  },
  {
   "cell_type": "code",
   "execution_count": null,
   "metadata": {},
   "outputs": [],
   "source": [
    "max = dati.max()\n",
    "print(max)"
   ]
  },
  {
   "cell_type": "markdown",
   "metadata": {},
   "source": [
    "La conoscenza del minimo e del massimo valore dei dati &egrave; utile per determinare il `range` dei bin, cio&egrave; la coordinata dell'estremo inferiore del primo bin e la coordinata dell'estremo supereriore dell'ultimo bin. Il numero di bin deve essere adattato di volta in volta al set di dati per aiutare l'analisi."
   ]
  },
  {
   "cell_type": "code",
   "execution_count": null,
   "metadata": {},
   "outputs": [],
   "source": [
    "nbins = 10\n",
    "xrange = (1.75, 2.20)"
   ]
  },
  {
   "cell_type": "markdown",
   "metadata": {},
   "source": [
    "Nell'esempio seguente vengono inserite tre linee verticali per segnalare il valor medio e i valori della variabile a pi&ugrave; e meno una deviazione standard dal valor medio (Non &egrave; necessario farlo sempre). "
   ]
  },
  {
   "cell_type": "code",
   "execution_count": 19,
   "metadata": {},
   "outputs": [
    {
     "data": {
      "image/png": "[encoded data removed]",
      "text/plain": [
       "<Figure size 640x480 with 1 Axes>"
      ]
     },
     "metadata": {},
     "output_type": "display_data"
    }
   ],
   "source": [
    "fig, ax = plt.subplots()\n",
    "nevent, bins, patches = ax.hist(dati, nbins, range=xrange)\n",
    "ax.plot(np.ones(2)*media, [0,nevent.max()+1], label=\"media\")\n",
    "ax.plot(np.ones(2)*media-deviazione_std, [0,nevent.max()+1], label=r\"media - $\\sigma$\")\n",
    "ax.plot(np.ones(2)*media+deviazione_std, [0,nevent.max()+1], label=r\"media + $\\sigma$\")\n",
    "ax.legend();"
   ]
  },
  {
   "cell_type": "code",
   "execution_count": null,
   "metadata": {},
   "outputs": [],
   "source": [
    "print(nevent)      # Numero di eventi in ciascun bin"
   ]
  },
  {
   "cell_type": "code",
   "execution_count": null,
   "metadata": {},
   "outputs": [],
   "source": [
    "print(bins)        # Estremi dei bin"
   ]
  },
  {
   "cell_type": "markdown",
   "metadata": {},
   "source": [
    "I patches sono le coordinate dei rettangoli (blu in questo caso) che vengono usati per disegnare l'istogramma."
   ]
  },
  {
   "cell_type": "markdown",
   "metadata": {},
   "source": [
    "Il metodo `hist` ha un parametro booleano `density` con default `False`. Se `density=True` ogni bin mostra il numero di eventi nel bin diviso per il numero totale di eventi e diviso per la larghezza del bin in modo che l'area sotto l'istogramma sia 1. Utile per confontare la densit&agrave; dei dati con una densit&agrave; di\n",
    "probabilit&agrave; analitica, per esempio gaussiana."
   ]
  },
  {
   "cell_type": "code",
   "execution_count": null,
   "metadata": {},
   "outputs": [],
   "source": [
    "fig, ax = plt.subplots()\n",
    "nevent, bins, patches = ax.hist(dati, nbins, range=xrange, density=True)"
   ]
  },
  {
   "cell_type": "markdown",
   "metadata": {},
   "source": [
    "<div style = \"width:95%; padding:5px 10px 5px; border-style:solid; border-width:0px 0px 0px 10px; border-color:#b8d0d0; margin:20px 0px 10px 10px\">\n",
    "    <h4> Imparare Facendo</h4>\n",
    "    Fate il diagramma delle frequenze dell'array <b>my_arr</b>. In particolare\n",
    "<OL>\n",
    "<LI>Determinate un <b>range</b> ragionevole. \n",
    "<LI>Variate il numero di bin, notando come sia un numero troppo piccolo che uno troppo grande mascherano l'andamento dei dati.\n",
    "<LI>Valutate se il valor medio e la standard deviation sono parametri utili nella comprensione di questo set di dati\n",
    "</OL>\n",
    "</div>"
   ]
  },
  {
   "cell_type": "markdown",
   "metadata": {},
   "source": [
    "<div style = \"width:95%; padding:5px 10px 5px; border-style:solid; border-width:0px 0px 0px 10px; border-color:#ff0000; margin:20px 0px 10px 10px\">\n",
    "    <h4> Attenzione!</h4>\n",
    "    Lo studio grafico dei dati non va mai trascurato.<BR>\n",
    "In un notebook separato <A HREF=\"anscombe.ipynb\"> anscombe.ipynb</A> potete trovare un classico esempio di quanto sia pericoloso affidarsi ai soli parametri statisti fondamentali. Vengono mostrati quattro set di dati che hanno la stessa media, la stessa deviazione standard e vengono interpolati dalla stessa retta pur essendo completamente diversi.\n",
    "</div>"
   ]
  },
  {
   "cell_type": "markdown",
   "metadata": {},
   "source": [
    "<div style= 'padding:20px 20px 0px 70px;'>\n",
    "    <img src=\"../Humour/extrapolating2.png\" width=\"850\" align=\"left\"/>\n",
    "</div>"
   ]
  },
  {
   "cell_type": "markdown",
   "metadata": {},
   "source": [
    "## Numeri Casuali\n",
    "\n",
    "La generazione di numeri casuali secondo una distribuzione data ha numerose importanti applicazioni.\n",
    "Il notebook [11_MetodoMontecarlo](./11_MetodoMontecarlo.ipynb) fornisce una discussione pi&ugrave; approfondita e diversi esempi.<BR>\n",
    "Nelle versioni pi&ugrave; recenti di Numpy (>1.17) &egrave; stata introdotto un oggetto `default_rng` i cui metodi possono essere utilizzati \n",
    "per generare set di valori distribuiti secondo le singole distribuzioni di probabilit&agrave;. "
   ]
  },
  {
   "cell_type": "code",
   "execution_count": null,
   "metadata": {},
   "outputs": [],
   "source": [
    "import matplotlib.pyplot as plt\n",
    "from numpy.random import default_rng\n",
    "\n",
    "rng = default_rng()\n",
    "\n",
    "#help(np.random.default_rng)\n",
    "#help(rng)"
   ]
  },
  {
   "cell_type": "markdown",
   "metadata": {},
   "source": [
    "### Alcuni esempi con distribuzioni di uso frequente:"
   ]
  },
  {
   "cell_type": "markdown",
   "metadata": {},
   "source": [
    "- Come generare numeri distribuiti secondo la distribuzione normale standard, con valor medio $\\mu = 0.0$, e deviazione standard $\\sigma = 1.0\\,$. "
   ]
  },
  {
   "cell_type": "code",
   "execution_count": null,
   "metadata": {},
   "outputs": [],
   "source": [
    "m1 = rng.normal(size=2000)"
   ]
  },
  {
   "cell_type": "code",
   "execution_count": null,
   "metadata": {},
   "outputs": [],
   "source": [
    "print(m1[170:202])"
   ]
  },
  {
   "cell_type": "code",
   "execution_count": null,
   "metadata": {},
   "outputs": [],
   "source": [
    "nbins = 30\n",
    "xrange = (-5, 5)    # ntupla\n",
    "fig, ax = plt.subplots()\n",
    "nevent, bins, patches = ax.hist(m1, nbins, range=xrange)"
   ]
  },
  {
   "cell_type": "markdown",
   "metadata": {},
   "source": [
    "- Come generare numeri distribuiti secondo la distribuzione normale con $\\mu = -2.0,\\, \\sigma = 0.3\\,$. "
   ]
  },
  {
   "cell_type": "code",
   "execution_count": null,
   "metadata": {},
   "outputs": [],
   "source": [
    "m2 = rng.normal(loc=-2., scale=0.3, size=2000)"
   ]
  },
  {
   "cell_type": "code",
   "execution_count": null,
   "metadata": {},
   "outputs": [],
   "source": [
    "nbins = 300\n",
    "xrange = (-5, 1)    # ntupla\n",
    "fig, ax = plt.subplots()\n",
    "nevent, bins, patches = ax.hist(m2, nbins, range=xrange)"
   ]
  },
  {
   "cell_type": "markdown",
   "metadata": {},
   "source": [
    "- Un modo di generare numeri **reali** secondo la distribuzione uniforme (tutti i punti sono equiprobabili) standard (L'intervallo di definizione &egrave; $[0,1]$). "
   ]
  },
  {
   "cell_type": "code",
   "execution_count": null,
   "metadata": {},
   "outputs": [],
   "source": [
    "#help(rng.uniform)"
   ]
  },
  {
   "cell_type": "code",
   "execution_count": null,
   "metadata": {},
   "outputs": [],
   "source": [
    "m3 = rng.uniform(size=2000)"
   ]
  },
  {
   "cell_type": "code",
   "execution_count": null,
   "metadata": {},
   "outputs": [],
   "source": [
    "print('m3[0:10]: ',m3[0:10])"
   ]
  },
  {
   "cell_type": "code",
   "execution_count": null,
   "metadata": {},
   "outputs": [],
   "source": [
    "nbins = 12\n",
    "xrange = (-0.1, 1.1)    # ntupla\n",
    "fig, ax = plt.subplots()\n",
    "nevent, bins, patches = ax.hist(m3, nbins, range=xrange)"
   ]
  },
  {
   "cell_type": "markdown",
   "metadata": {},
   "source": [
    "- Un modo di generare numeri **interi** uniformemente distribuiti fra un minimo (incluso) e un massimo (escluso). "
   ]
  },
  {
   "cell_type": "code",
   "execution_count": null,
   "metadata": {},
   "outputs": [],
   "source": [
    "#help(rng.integers)"
   ]
  },
  {
   "cell_type": "code",
   "execution_count": null,
   "metadata": {},
   "outputs": [],
   "source": [
    "m4 = rng.integers(0, high=100, size=1500)\n",
    "print(m4[30:72])"
   ]
  },
  {
   "cell_type": "markdown",
   "metadata": {},
   "source": [
    "    In letteratura si trovano ancora i generatori di numeri casuali meno recenti (sempre in numpy.random)\n",
    "    ======================================================================================================\n",
    "    rand                 Uniformly distributed values.\n",
    "    randn                Normally distributed values.\n",
    "    ranf                 Uniformly distributed floating point numbers.\n",
    "    randint              Uniformly distributed integers in a given range.\n",
    "    ======================================================================================================\n",
    "    "
   ]
  },
  {
   "cell_type": "markdown",
   "metadata": {},
   "source": [
    "Si pu&ograve; fissare il \"seme\" del generatore di numeri casuali in modo da ottenere la stessa sequenza pi&ugrave; volte.\n",
    "Utile qundo si vogliono capire le analisi statistiche fatte da qualcun altro."
   ]
  },
  {
   "cell_type": "code",
   "execution_count": null,
   "metadata": {},
   "outputs": [],
   "source": [
    "rng1 = default_rng(12345)\n",
    "rng2 = default_rng(12345)"
   ]
  },
  {
   "cell_type": "code",
   "execution_count": null,
   "metadata": {},
   "outputs": [],
   "source": [
    "m3_1 = rng1.uniform(size=200)"
   ]
  },
  {
   "cell_type": "code",
   "execution_count": null,
   "metadata": {},
   "outputs": [],
   "source": [
    "m3_2 = rng2.uniform(size=200)"
   ]
  },
  {
   "cell_type": "code",
   "execution_count": null,
   "metadata": {},
   "outputs": [],
   "source": [
    "print(m3_1 == m3_2)"
   ]
  },
  {
   "cell_type": "code",
   "execution_count": null,
   "metadata": {},
   "outputs": [],
   "source": [
    "rng3 = default_rng(12345)\n",
    "rng4 = default_rng(12345)"
   ]
  },
  {
   "cell_type": "code",
   "execution_count": null,
   "metadata": {},
   "outputs": [],
   "source": [
    "m1_1 =rng3.normal(size=1000)\n",
    "#m1_1"
   ]
  },
  {
   "cell_type": "code",
   "execution_count": null,
   "metadata": {},
   "outputs": [],
   "source": [
    "m1_2 =rng4.normal(size=1000)\n",
    "#m1_2"
   ]
  },
  {
   "cell_type": "code",
   "execution_count": null,
   "metadata": {},
   "outputs": [],
   "source": [
    "print(all(m1_1 == m1_2))"
   ]
  },
  {
   "cell_type": "markdown",
   "metadata": {},
   "source": [
    "<div style= 'padding:20px 20px 0px 150px;'>\n",
    "    <img src=\"../Humour/NormalDistribution.jpg\" width=\"400\" align=\"left\"/>\n",
    "</div>"
   ]
  },
  {
   "cell_type": "markdown",
   "metadata": {},
   "source": [
    "<div style = \"width:95%; padding:5px 10px 5px; border-style:solid; border-width:0px 0px 0px 10px; border-color:#b8d0d0; margin:20px 0px 10px 10px\">\n",
    "    <h4> Imparare Facendo</h4>\n",
    "    \n",
    "Producete campioni casuali estratti da una distribuzione normale, con valor medio $\\mu = 3.$ e deviazione standard $\\sigma = 0.7$, di 50, 100, 500, 5000 elementi.\n",
    "    Di ciascun campione\n",
    "<OL>\n",
    "<LI>Fate l'istogramma delle frequenze.\n",
    "<LI>Sovrapponete all'istogramma delle frequenze la funzione densit&agrave; di probabilità gaussiana di valor medio $\\mu$ e deviazione standard $\\sigma$, facendo attenzione che la curva e l'istogramma siano confrontabili. Cosa &egrave; necessario fare?\n",
    "</OL>\n",
    "</div>"
   ]
  },
  {
   "cell_type": "markdown",
   "metadata": {},
   "source": [
    "## Distribuzioni di probabilit&agrave;\n",
    "\n",
    "Il modulo `scipy.stats` contiene le principali distribuzioni di probabilit&agrave;, sia discrete che continue, funzioni che permettono di calcolare i parametri statistici pi&ugrave; comuni di un set di dati, funzioni che eseguono test statistici e test di correlazione fra uno o pi&ugrave; set di dati.<BR>\n",
    "Per ulteriori informazioni https://docs.scipy.org/doc/scipy/reference/stats.html."
   ]
  },
  {
   "cell_type": "markdown",
   "metadata": {},
   "source": [
    "### Distribuzione normale: $\\,\\,N(x) = \\frac{\\exp (-x^2/2)}{\\sqrt{2\\,\\pi}}$"
   ]
  },
  {
   "cell_type": "code",
   "execution_count": null,
   "metadata": {},
   "outputs": [],
   "source": [
    "import numpy as np\n",
    "import scipy.stats as stats\n",
    "import matplotlib.pyplot as plt"
   ]
  },
  {
   "cell_type": "markdown",
   "metadata": {},
   "source": [
    "#### Grafico della distribuzione"
   ]
  },
  {
   "cell_type": "code",
   "execution_count": null,
   "metadata": {},
   "outputs": [],
   "source": [
    "x = np.linspace(-3, 3, 100)\n",
    "y_norm = stats.norm.pdf(x)\n",
    "\n",
    "fig, ax = plt.subplots()\n",
    "ax.plot(x, y_norm);"
   ]
  },
  {
   "cell_type": "markdown",
   "metadata": {},
   "source": [
    "#### Parametri del set di dati\n",
    "La funzione scipy.stats.describe calcola e restituisce i parametri statistici base di un array di dati: numero di dati, minimo e massimo valore, media, varianza, asimmetria e curtosi. `help(scipy.stats.describe)` per maggiori dettagli."
   ]
  },
  {
   "cell_type": "code",
   "execution_count": null,
   "metadata": {},
   "outputs": [],
   "source": [
    "print(stats.describe(y_norm))"
   ]
  },
  {
   "cell_type": "markdown",
   "metadata": {},
   "source": [
    "#### Grafico della distribuzione cumulativa (cdf)\n",
    "\n",
    "La distribuzione cumulativa $C(x)$ di una distribuzione di probabilit&agrave; $N(x)$ &egrave; definita come\n",
    "$\\,\\,C(x) = \\int_{-\\infty}^x N(y)\\, dy$"
   ]
  },
  {
   "cell_type": "code",
   "execution_count": null,
   "metadata": {},
   "outputs": [],
   "source": [
    "y_norm_cumulative = stats.norm.cdf(x)"
   ]
  },
  {
   "cell_type": "code",
   "execution_count": null,
   "metadata": {},
   "outputs": [],
   "source": [
    "fig, ax = plt.subplots()\n",
    "ax.plot(x, y_norm_cumulative);"
   ]
  },
  {
   "cell_type": "markdown",
   "metadata": {},
   "source": [
    "### Distribuzione di Poisson: $f(k) = \\exp(-\\mu)\\, \\frac{\\mu^k}{k!}$"
   ]
  },
  {
   "cell_type": "markdown",
   "metadata": {
    "tags": []
   },
   "source": [
    "#### Grafico della distribuzione\n",
    "La pmf &egrave; la probability mass function."
   ]
  },
  {
   "cell_type": "code",
   "execution_count": null,
   "metadata": {},
   "outputs": [],
   "source": [
    "mu = 1.5\n",
    "k = np.arange(0, 10, 1)\n",
    "n = stats.poisson.pmf(k, mu)"
   ]
  },
  {
   "cell_type": "code",
   "execution_count": null,
   "metadata": {},
   "outputs": [],
   "source": [
    "fig, ax = plt.subplots()\n",
    "ax.scatter(k, n);"
   ]
  },
  {
   "cell_type": "markdown",
   "metadata": {},
   "source": [
    "#### Parametri del set di dati"
   ]
  },
  {
   "cell_type": "code",
   "execution_count": null,
   "metadata": {},
   "outputs": [],
   "source": [
    "stats.describe(n)"
   ]
  },
  {
   "cell_type": "markdown",
   "metadata": {},
   "source": [
    "Informazioni addizionali e buoni esempi: https://realpython.com/numpy-random-number-generator/"
   ]
  },
  {
   "cell_type": "markdown",
   "metadata": {},
   "source": [
    "# Sommario 9: Statistica per la Fisica Sperimentale\n",
    "\n",
    "## 🎯 Il Messaggio Centrale\n",
    "\n",
    "**La statistica non &egrave; matematica astratta, &egrave; lo strumento per estrarre informazione dal rumore nelle misure sperimentali**\n",
    "\n",
    "Tre pilastri fondamentali:\n",
    "1. **Caratterizzare** i dati (media, deviazione standard)\n",
    "2. **Visualizzare** le distribuzioni (istogrammi)\n",
    "3. **Modellare** con distribuzioni teoriche (Gauss, Poisson)\n",
    "\n",
    "## 📊 Parametri Statistici: Cosa Misurano Davvero\n",
    "\n",
    "### I Magnifici Tre\n",
    "```python\n",
    "media = dati.mean()     # Valore centrale\n",
    "std = dati.std()        # Dispersione\n",
    "var = dati.var()        # std²\n",
    "```\n",
    "\n",
    "### Quando Usarli e Quando NO\n",
    "\n",
    "| Parametro | Utile quando | Ingannevole quando |\n",
    "|-----------|--------------|-------------------|\n",
    "| Media | Distribuzione simmetrica | Outliers presenti |\n",
    "| Std | Distribuzione unimodale | Distribuzioni bimodali |\n",
    "| Min/Max | Sempre | Mai sufficienti da soli |\n",
    "\n",
    "**Regola d'oro**: I parametri numerici senza visualizzazione sono pericolosi (vedi Anscombe)\n",
    "\n",
    "## 📈 Istogrammi: La Finestra sui Dati\n",
    "\n",
    "### Il Pattern Standard\n",
    "```python\n",
    "fig, ax = plt.subplots()\n",
    "n, bins, patches = ax.hist(dati, bins=nbins, range=(xmin, xmax))\n",
    "```\n",
    "\n",
    "### Scelta Critica dei Bin\n",
    "- **Troppo pochi** (< 10): Perdi struttura\n",
    "- **Troppi** (> √n): Rumore domina\n",
    "- **Regola empirica**: bins ≈ √(numero_dati)\n",
    "\n",
    "### Normalizzazione per Confronto\n",
    "```python\n",
    "# Per confrontare con teoria\n",
    "ax.hist(dati, density=True)  # Area = 1\n",
    "```\n",
    "\n",
    "## 🎲 Generazione Numeri Casuali\n",
    "\n",
    "### Il Nuovo Standard (NumPy > 1.17)\n",
    "```python\n",
    "from numpy.random import default_rng\n",
    "rng = default_rng(seed)  # seed per riproducibilità\n",
    "\n",
    "# Distribuzioni principali\n",
    "rng.normal(loc=μ, scale=σ, size=n)    # Gaussiana\n",
    "rng.uniform(low, high, size=n)        # Uniforme\n",
    "rng.poisson(lam=λ, size=n)            # Poisson\n",
    "rng.integers(low, high, size=n)       # Interi uniformi\n",
    "```\n",
    "\n",
    "### Perch&egrave; Generare Dati Casuali?\n",
    "1. **Test algoritmi**: Prima di dati reali\n",
    "2. **Monte Carlo**: Simulazioni complesse\n",
    "3. **Bootstrap**: Stima incertezze\n",
    "4. **Validazione**: Confronto teoria-esperimento\n",
    "\n",
    "## 📉 Distribuzioni Fondamentali per la Fisica\n",
    "\n",
    "### Gaussiana (Normale)\n",
    "**Quando**: Errori di misura, teorema limite centrale\n",
    "```python\n",
    "# Media μ, deviazione σ\n",
    "P(x) = exp(-(x-μ)²/2σ²) / √(2πσ²)\n",
    "```\n",
    "**Proprietà chiave**: 68% dati in ±σ, 95% in ±2σ\n",
    "\n",
    "### Poisson\n",
    "**Quando**: Eventi rari, decadimenti radioattivi\n",
    "```python\n",
    "# Parametro λ (rate)\n",
    "P(k) = λᵏ exp(-λ) / k!\n",
    "```\n",
    "**Proprietà chiave**: Media = Varianza = λ\n",
    "\n",
    "### Uniforme\n",
    "**Quando**: Errori di digitalizzazione, fase casuale\n",
    "```python\n",
    "P(x) = 1/(b-a) per a ≤ x ≤ b\n",
    "```\n",
    "\n",
    "## ⚠️ I Pericoli della Statistica Ingenua\n",
    "\n",
    "### 1. Il Paradosso di Anscombe\n",
    "Quattro dataset con:\n",
    "- Stessa media ✓\n",
    "- Stessa deviazione standard ✓\n",
    "- Stessa retta di fit ✓\n",
    "- **Completamente diversi visivamente!**\n",
    "\n",
    "### 2. Outliers Nascosti\n",
    "```python\n",
    "# Un outlier può spostare la media\n",
    "dati = [1, 2, 3, 4, 100]  # media = 22!\n",
    "# Usa la mediana per robustezza\n",
    "```\n",
    "\n",
    "### 3. Distribuzioni Bimodali\n",
    "Due picchi nascosti da media e std singole\n",
    "\n",
    "## 🔬 Pattern per Analisi Dati Sperimentali\n",
    "\n",
    "### Workflow Standard\n",
    "```python\n",
    "# 1. Carica dati\n",
    "dati = np.loadtxt('misure.txt')\n",
    "\n",
    "# 2. Esplora visivamente\n",
    "fig, (ax1, ax2) = plt.subplots(1, 2)\n",
    "ax1.hist(dati, bins=30)\n",
    "ax2.boxplot(dati)\n",
    "\n",
    "# 3. Calcola parametri\n",
    "μ, σ = dati.mean(), dati.std()\n",
    "\n",
    "# 4. Identifica outliers\n",
    "outliers = dati[np.abs(dati - μ) > 3*σ]\n",
    "\n",
    "# 5. Confronta con teoria\n",
    "x = np.linspace(dati.min(), dati.max(), 100)\n",
    "teoria = stats.norm.pdf(x, μ, σ)\n",
    "ax1.plot(x, teoria * n * bin_width)\n",
    "```\n",
    "\n",
    "### Test di Normalit&agrave;\n",
    "```python\n",
    "# Shapiro-Wilk test\n",
    "statistic, p_value = stats.shapiro(dati)\n",
    "if p_value < 0.05:\n",
    "    print(\"Non gaussiano!\")\n",
    "```\n",
    "\n",
    "## 💡 Best Practices\n",
    "\n",
    "1. **Sempre visualizzare prima**: Grafico → Parametri → Conclusioni\n",
    "2. **Controllare outliers**: 3σ rule o metodo IQR\n",
    "3. **Seed per riproducibilit&agrave;**: `rng = default_rng(12345)`\n",
    "4. **Bin appropriati**: Non troppi, non troppo pochi\n",
    "5. **Confrontare con teoria**: Sovrapporre curve teoriche\n",
    "\n",
    "## 📊 Checklist Analisi Statistica\n",
    "\n",
    "- [ ] Ho fatto l'istogramma dei dati?\n",
    "- [ ] Ho controllato presenza di outliers?\n",
    "- [ ] La distribuzione &egrave; unimodale?\n",
    "- [ ] Media e mediana sono simili?\n",
    "- [ ] Ho scelto bins appropriati?\n",
    "- [ ] Ho confrontato con distribuzione teorica?\n",
    "- [ ] Ho verificato le assunzioni statistiche?\n",
    "\n",
    "## 🎓 Il Concetto Chiave\n",
    "\n",
    "**\"Tutti i modelli sono sbagliati, ma alcuni sono utili\"** - George Box\n",
    "\n",
    "La statistica non d&agrave; verit&agrave; assolute ma strumenti per quantificare l'incertezza. In fisica sperimentale, l'onest&agrave; nell'analisi statistica &egrave; fondamentale: mostrare sempre i dati grezzi, dichiarare le assunzioni, quantificare le incertezze.\n"
   ]
  },
  {
   "cell_type": "code",
   "execution_count": null,
   "metadata": {},
   "outputs": [],
   "source": []
  }
 ],
 "metadata": {
  "hide_input": false,
  "kernelspec": {
   "display_name": "Python 3 (ipykernel)",
   "language": "python",
   "name": "python3"
  },
  "language_info": {
   "codemirror_mode": {
    "name": "ipython",
    "version": 3
   },
   "file_extension": ".py",
   "mimetype": "text/x-python",
   "name": "python",
   "nbconvert_exporter": "python",
   "pygments_lexer": "ipython3",
   "version": "3.13.5"
  },
  "toc": {
   "base_numbering": 1,
   "nav_menu": {},
   "number_sections": true,
   "sideBar": true,
   "skip_h1_title": true,
   "title_cell": "Table of Contents",
   "title_sidebar": "Contents",
   "toc_cell": false,
   "toc_position": {},
   "toc_section_display": true,
   "toc_window_display": false
  },
  "varInspector": {
   "cols": {
    "lenName": 16,
    "lenType": 16,
    "lenVar": 40
   },
   "kernels_config": {
    "python": {
     "delete_cmd_postfix": "",
     "delete_cmd_prefix": "del ",
     "library": "var_list.py",
     "varRefreshCmd": "print(var_dic_list())"
    },
    "r": {
     "delete_cmd_postfix": ") ",
     "delete_cmd_prefix": "rm(",
     "library": "var_list.r",
     "varRefreshCmd": "cat(var_dic_list()) "
    }
   },
   "types_to_exclude": [
    "module",
    "function",
    "builtin_function_or_method",
    "instance",
    "_Feature"
   ],
   "window_display": false
  }
 },
 "nbformat": 4,
 "nbformat_minor": 4
}
