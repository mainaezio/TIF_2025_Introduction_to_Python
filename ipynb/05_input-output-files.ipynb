{
 "cells": [
  {
   "cell_type": "markdown",
   "metadata": {
    "editable": true,
    "slideshow": {
     "slide_type": ""
    },
    "tags": []
   },
   "source": [
    "<H1 style=\"font-size:50px\">5: Input e Output</H1>\n",
    "\n",
    "<div style = \"width:95%; padding:5px 10px 5px;  margin:50px 0px 10px 10px; font-size:18px\">\n",
    "<UL>\n",
    "    <LI> Come scrivere sullo schermo\n",
    "    <LI> Come controllare il modo con cui le informazioni sono scritte \n",
    "    <LI> Come leggere e scrivere su file\n",
    "</UL>\n",
    "</div>\n",
    "\n",
    "<hr>\n",
    "\n",
    "In questa sezione descriviamo come specificare il formato con cui stampare le informazioni sia sullo shermo che in un file.\n",
    "\n",
    "## Stampare sullo standard output (normalmente lo schermo)\n",
    "\n",
    "\n",
    "La funzione `print` è il comando utilizzato più comunemente per stampare informazioni sullo “standard output device” che normalmente è lo schermo.\n",
    "\n",
    "Ci sono due modi per usare print.\n",
    "\n",
    "### `print` semplice\n",
    "\n",
    "Il modo più facile di usare il comando `print` è passargli l'elenco delle variabili da stampare separate da un virgola. Qualche esempio:"
   ]
  },
  {
   "cell_type": "code",
   "execution_count": null,
   "metadata": {},
   "outputs": [],
   "source": [
    "a = 10\n",
    "b = 'test text'\n",
    "print(a)"
   ]
  },
  {
   "cell_type": "code",
   "execution_count": null,
   "metadata": {},
   "outputs": [],
   "source": [
    "print(b)"
   ]
  },
  {
   "cell_type": "code",
   "execution_count": null,
   "metadata": {},
   "outputs": [],
   "source": [
    "print(a, b)"
   ]
  },
  {
   "cell_type": "code",
   "execution_count": null,
   "metadata": {},
   "outputs": [],
   "source": [
    "print(\"The answer is\", a)"
   ]
  },
  {
   "cell_type": "code",
   "execution_count": null,
   "metadata": {},
   "outputs": [],
   "source": [
    "print(\"The answer is\", a, \"and the string contains\", b)"
   ]
  },
  {
   "cell_type": "markdown",
   "metadata": {},
   "source": [
    "Python aggiunge uno spazio tra ogni coppia di oggetti che viene stampata.\n",
    "\n",
    "Python va a capo dopo ogni chiamata a print. Per impedirlo, usate il parametro `end=` :"
   ]
  },
  {
   "cell_type": "code",
   "execution_count": null,
   "metadata": {},
   "outputs": [],
   "source": [
    "# Comportamento di default\n",
    "print(\"Printing in line one\")\n",
    "print(\"...still printing in line one (just kidding).\")"
   ]
  },
  {
   "cell_type": "code",
   "execution_count": null,
   "metadata": {},
   "outputs": [],
   "source": [
    "# sostituendo il simbolo di 'a capo' (\\n) con uno spazio nel primo statement'\n",
    "print(\"Printing in line one\", end=\" \")\n",
    "print(\"...still printing in line one (now it works).\")"
   ]
  },
  {
   "cell_type": "markdown",
   "metadata": {},
   "source": [
    "### f-strings: il metodo più semplice e moderno di specificare il format\n",
    "\n",
    "È sufficiente mettere il simbolo `f`, da cui il nome f-strings, di fronte al delimitatore iniziale della stringa e poi, all'interno della stringa stessa specificare variabile e formato fra parentesi graffe. "
   ]
  },
  {
   "cell_type": "code",
   "execution_count": null,
   "metadata": {
    "tags": []
   },
   "outputs": [],
   "source": [
    "print(f\"{'Susan'} needs {2} pints\")"
   ]
  },
  {
   "cell_type": "markdown",
   "metadata": {
    "tags": []
   },
   "source": [
    "In genere &egrave; conveniente passare i valori da stampare attravero delle variabili:"
   ]
  },
  {
   "cell_type": "code",
   "execution_count": null,
   "metadata": {
    "tags": []
   },
   "outputs": [],
   "source": [
    "name = 'Peter'\n",
    "n = 4\n",
    "print(f\"{name} needs {n} pints\")"
   ]
  },
  {
   "cell_type": "markdown",
   "metadata": {},
   "source": [
    "Il formato con cui la variabile viene stampata si pu&ograve; specificare con una istruzione del tipo `W.DF`per i numeri reali e del tipo `W.F` per gli interi.\n",
    "L'istruzione segue il nome della variabile da cui &egrave; separata dal simbolo ':'.\n",
    "`W` (width), che &egrave; opzionale, definisce il numero minimo di caratteri utilizzati per la scrittura; `D` (digits), che &egrave; necessario, definisce il numero di cifre dopo il punto decimale; `F` definisce lo stile."
   ]
  },
  {
   "cell_type": "markdown",
   "metadata": {},
   "source": [
    "\n",
    "La lista dei formati pi&ugrave; comuni usando come esempio l'unità astronomica (distanza media Sole-Terra in metri): AU = 149597870700 m.\n",
    "\n",
    "| specifier         |         style         |  Example output for AU|\n",
    "|:------------------|:---------------------:|----------------------:|\n",
    "| `f` |     floating point    |  `149597870700.000000`|\n",
    "| `e` |  exponential notation |         `1.495979e+11`|\n",
    "| `g` |  shorter of %e or %f  |          `1.49598e+11`|\n",
    "| `d` |        integer        |         `149597870700`|\n",
    "| `x` |       exadecimal      |           `22d4ba5a6c`|\n",
    "| `o` |       octal      |           `2132456455154`|\n",
    "| `s` |  `str()` |         `149597870700`|"
   ]
  },
  {
   "cell_type": "code",
   "execution_count": null,
   "metadata": {},
   "outputs": [],
   "source": [
    "AU = 149597870700  # unità astronomica [m]\n",
    "AU_f = f\"{AU:f}\"        # Stile float con parametri di default\n",
    "print(AU_f)"
   ]
  },
  {
   "cell_type": "code",
   "execution_count": null,
   "metadata": {},
   "outputs": [],
   "source": [
    "AU_f1 = f\"{AU:.1f}\"     # Stile float con una sola cifra dopo il punto\n",
    "print(AU_f1)"
   ]
  },
  {
   "cell_type": "code",
   "execution_count": null,
   "metadata": {},
   "outputs": [],
   "source": [
    "AU_e = f\"{AU:e}\"        # Stile esponenziale. Ha una cifra prima del punto.\n",
    "print(AU_e)"
   ]
  },
  {
   "cell_type": "code",
   "execution_count": null,
   "metadata": {},
   "outputs": [],
   "source": [
    "AU_e4 = f\"{AU:.4e}\"     # Stile esponenziale con quattro cifre dopo il punto\n",
    "print(AU_e4)"
   ]
  },
  {
   "cell_type": "markdown",
   "metadata": {},
   "source": [
    "Un numero prima del punto indica il numero minimo di spazi da riservare alla scrittura della variabile:"
   ]
  },
  {
   "cell_type": "code",
   "execution_count": null,
   "metadata": {
    "tags": []
   },
   "outputs": [],
   "source": [
    "AU_f30_4 = f\"**{AU:30.4f}**\"     # Stile float larghezza minima di 30 caratteri \n",
    "                                 # con quattro cifre dopo il punto.\n",
    "                                 # I caratteri * servono a rendere visibile lo spazio riservato\n",
    "print(AU_f30_4)"
   ]
  },
  {
   "cell_type": "markdown",
   "metadata": {},
   "source": [
    "Se si riservano un numero di spazi insufficiente la richiesta viene ignorata:"
   ]
  },
  {
   "cell_type": "code",
   "execution_count": null,
   "metadata": {
    "tags": []
   },
   "outputs": [],
   "source": [
    "AU_f5_4 = f\"**{AU:5.4f}**\"       # Stile float larghezza minima di 5 caratteri \n",
    "                                 # con quattro cifre dopo il punto.\n",
    "                                 # I caratteri * servono a rendere visibile lo spazio riservato\n",
    "print(AU_f5_4)"
   ]
  },
  {
   "cell_type": "markdown",
   "metadata": {},
   "source": [
    "Si possono utilizzare formati diversi in una singola stringa:"
   ]
  },
  {
   "cell_type": "code",
   "execution_count": null,
   "metadata": {},
   "outputs": [],
   "source": [
    "import math\n",
    "print(f\"{3*math.pi:10.8f} --- {math.pi:7.3e}\")"
   ]
  },
  {
   "cell_type": "markdown",
   "metadata": {},
   "source": [
    "Quando &egrave; necessario costruire f-strings che si estendono su pi&ugrave; righe il metodo\n",
    "pi&ugrave; semplice &egrave; usare `\"\"\"` (triplo doppio-apice) per delimitare la stringa"
   ]
  },
  {
   "cell_type": "code",
   "execution_count": null,
   "metadata": {
    "tags": []
   },
   "outputs": [],
   "source": [
    "print(f\"\"\"prima riga\n",
    "seconda riga\"\"\")"
   ]
  },
  {
   "cell_type": "markdown",
   "metadata": {},
   "source": [
    "#### Tabulare dati con le f-strings\n",
    "Il simbolo >, <, ^ allinea le variabili a destra, sinistra, centro dello spazio disponibile. L'allineamento a destra &egrave; il default per le variabili numeriche; l'allineamento a sinistra &egrave; il default per quasi tutte gli altri tipi di variabili."
   ]
  },
  {
   "cell_type": "code",
   "execution_count": null,
   "metadata": {},
   "outputs": [],
   "source": [
    "Table = [[1, 2, 3], [5, 6 ,7], [8, 9, 10]]\n",
    "info = [\"dato 1\", \"dato 2\", \"dato 3\"]\n",
    "print(f\"{info[0]:>8s} {info[1]:>8s} {info[2]:>8s}\")\n",
    "print(30*'-')\n",
    "for i in range(len(Table)):\n",
    "    print(f\"{Table[i][0]:8d} {Table[i][1]:8d} {Table[i][2]:8d}\") \n"
   ]
  },
  {
   "cell_type": "markdown",
   "metadata": {},
   "source": [
    "Separando pi&ugrave; chiaramente le colonne con linee verticali"
   ]
  },
  {
   "cell_type": "code",
   "execution_count": null,
   "metadata": {},
   "outputs": [],
   "source": [
    "Table = [[1, 2, 3], [5, 6, 7], [8, 9, 10]]\n",
    "info = [\"dato 1\", \"dato 2\", \"dato 3\"]\n",
    "print(34*'-')\n",
    "print(f\"| {info[0]:>8s} | {info[1]:>8s} | {info[2]:>8s} |\")\n",
    "print(34*'-')\n",
    "for i in range(len(Table)):\n",
    "    print(f\"| {Table[i][0]:8d} | {Table[i][1]:8d} | {Table[i][2]:8d} |\") \n",
    "print(34*'-')"
   ]
  },
  {
   "cell_type": "markdown",
   "metadata": {},
   "source": [
    "Esempio dell'utilizzo di allineamenti diversi nelle diverse colonne:"
   ]
  },
  {
   "cell_type": "code",
   "execution_count": null,
   "metadata": {
    "tags": []
   },
   "outputs": [],
   "source": [
    "Table = [[1, 2, 3], [5, 6, 7], [8, 9, 10]]\n",
    "info = [\"dato 1\", \"dato 2\", \"dato 3\"]\n",
    "print(34*'-')\n",
    "print(f\"| {info[0]:8s} | {info[1]:^8s} | {info[2]:>8s} |\")\n",
    "print(34*'-')\n",
    "for i in range(len(Table)):\n",
    "    print(f\"| {Table[i][0]:^8d} | {Table[i][1]:<8d} | {Table[i][2]:8d} |\") \n",
    "print(34*'-')"
   ]
  },
  {
   "cell_type": "markdown",
   "metadata": {},
   "source": [
    "Come incolonnare numeri reali e interi richiedendo lo stesso numero di cifre dopo il punto di separazione:"
   ]
  },
  {
   "cell_type": "code",
   "execution_count": null,
   "metadata": {},
   "outputs": [],
   "source": [
    "Table = [[1.2, 2, 3.14], [-5.0, 6.17, 7], [8, 9, 10]]\n",
    "info = [\"dato 1\", \"dato 2\", \"dato3\"]\n",
    "print(f\"{info[0]:>12s} {info[1]:>12s} {info[1]:>12s}\")\n",
    "print(42*'-')\n",
    "for i in range(len(Table)):\n",
    "    print(f\"{Table[i][0]:12.2f} {Table[i][1]:12.2f} {Table[i][2]:12.2f}\") \n"
   ]
  },
  {
   "cell_type": "markdown",
   "metadata": {},
   "source": [
    "### Il metodo `format`\n",
    "\n",
    "Spesso si trovano esempi di una notazione pi&ugrave; datata per specificare il formato di scrittura di una stringa che utilizza il metodo `format`. La specificazione del formato &egrave; quella gi&agrave; vista nel caso delle `f-string`. Mentre le istruzioni di formattazione sono all'interno della stringa da stampare, racchiuse da parentesi graffe,\n",
    "i corrispondenti dati sono passati attraverso il metodo `format`.\n",
    "\n",
    "Le idee fondamentali attraverso esempi:"
   ]
  },
  {
   "cell_type": "markdown",
   "metadata": {},
   "source": [
    "I valori vengono passati nell'ordine in cui devono comparire:"
   ]
  },
  {
   "cell_type": "code",
   "execution_count": null,
   "metadata": {},
   "outputs": [],
   "source": [
    "print(\"{} needs {} pints\".format('Peter', 4))"
   ]
  },
  {
   "cell_type": "markdown",
   "metadata": {},
   "source": [
    "Alternativamente, si pu&ograve; passare l'ordine in cui vanno stampate le variabile usando l'indice all'interno delle parentesi graffe:"
   ]
  },
  {
   "cell_type": "code",
   "execution_count": null,
   "metadata": {},
   "outputs": [],
   "source": [
    "\"{0} needs {1} pints\".format('Peter', 4)   "
   ]
  },
  {
   "cell_type": "code",
   "execution_count": null,
   "metadata": {},
   "outputs": [],
   "source": [
    "print(\"{1} needs {0} pints\".format('Peter', 4))"
   ]
  },
  {
   "cell_type": "markdown",
   "metadata": {},
   "source": [
    "Un'altra possibilit&agrave; &egrave; di associare un nome a ciascuna variabile e usare il nome nelle parentesi graffe:"
   ]
  },
  {
   "cell_type": "code",
   "execution_count": null,
   "metadata": {},
   "outputs": [],
   "source": [
    "print(\"{name} needs {number} pints\".format(name = 'Peter', number = 4))"
   ]
  },
  {
   "cell_type": "markdown",
   "metadata": {},
   "source": [
    "Le istruzioni di formattazione vanno all'interno delle parentesi graffe, precedute dal simbolo `:`:"
   ]
  },
  {
   "cell_type": "code",
   "execution_count": null,
   "metadata": {},
   "outputs": [],
   "source": [
    "import math\n",
    "print(\"Pi is approximately {:.2f}.\".format(math.pi))"
   ]
  },
  {
   "cell_type": "code",
   "execution_count": null,
   "metadata": {
    "scrolled": true
   },
   "outputs": [],
   "source": [
    "\"Pi is approximately {:6.2f}.\".format(math.pi)"
   ]
  },
  {
   "cell_type": "markdown",
   "metadata": {},
   "source": [
    "Un esempio di come mescolare formati e ordine delle variabili:"
   ]
  },
  {
   "cell_type": "code",
   "execution_count": null,
   "metadata": {},
   "outputs": [],
   "source": [
    "\"{1:10.8f} --- {0:7.3e} pints\".format(3*math.pi, math.pi)"
   ]
  },
  {
   "cell_type": "markdown",
   "metadata": {},
   "source": [
    "##### Ulteriori informazioni\n",
    "\n",
    "-   Esempi <http://docs.python.org/library/string.html#format-examples>\n",
    "\n",
    "-   [Python Enhancement Proposal 3101](http://www.python.org/dev/peps/pep-3101/)\n",
    "\n",
    "-   [Python library String Formatting Operations](http://docs.python.org/library/stdtypes.html#string-formatting-operations)\n",
    "\n",
    "-   [Old string formatting](http://docs.python.org/tutorial/inputoutput.html#old-string-formatting)\n",
    "\n",
    "-   [Introduction to Fancier Output Formatting, Python tutorial, section 7.1](http://docs.python.org/tutorial/inputoutput.html)\n",
    "\n",
    "- [pyformat.info](https://pyformat.info/)"
   ]
  },
  {
   "cell_type": "markdown",
   "metadata": {},
   "source": [
    "## Leggere e scrivere files\n",
    "\n",
    "Ecco un programmma che\n",
    "\n",
    "1. crea un file di nome `test.txt`\n",
    "2.  scrive del testo nel file\n",
    "4. chiude il file."
   ]
  },
  {
   "cell_type": "markdown",
   "metadata": {},
   "source": [
    "I dati che vengono immagazzinati nel file `test.txt` sono:\n",
    "```\n",
    "Writing text to file. This is the first line.\n",
    "And the second line.\n",
    "Third line!!!!!!!\n",
    "```"
   ]
  },
  {
   "cell_type": "code",
   "execution_count": null,
   "metadata": {},
   "outputs": [],
   "source": [
    "out_file = open(\"test.txt\", \"w\")          # Il file viene aperto/creato in scrittura.\n",
    "                                          # 'w' vuol dire write.\n",
    "out_file.write(\"Writing text to file. This is the first line.\\n\" + \\\n",
    "               \"And the second line.\\n Third line!!!!!!!\")\n",
    "# Il singolo carattere \"\\n\" segnala la fine di una riga. Vuol dire \"a capo\".\n",
    "out_file.close()                          # chiude il file"
   ]
  },
  {
   "cell_type": "markdown",
   "metadata": {},
   "source": [
    "La cella seguente\n",
    "\n",
    "1. apre il file di nome `test.txt`\n",
    "2. legge il testo dal file,\n",
    "3. chiude il file\n",
    "4. stampa il testo sullo schermo. "
   ]
  },
  {
   "cell_type": "code",
   "execution_count": null,
   "metadata": {},
   "outputs": [],
   "source": [
    "in_file = open(\"test.txt\", \"r\")           # Il file viene aperto in lettura. 'r' vuol dire read.\n",
    "text = in_file.read()                     # Legge tutto il file in una variabile \"text\" di \n",
    "                                          # tipo stringa\n",
    "in_file.close()                           # chiude il file\n",
    "\n",
    "print(text)"
   ]
  },
  {
   "cell_type": "markdown",
   "metadata": {},
   "source": [
    "Pi&ugrave; in dettaglio, il file viene aperto con il comando `open`. L'oggetto file aperto viene assegnato alla variabile `out_file`. Il testo viene scritto nel file usando il metodo `out_file.write`. Si noti che nell'esempio pi&ugrave; sopra, al metodo `write` &egrave; stata passata una stringa. Si possono usare, ovviamente, tutte le specificazioni di formato discusse in precedenza — si veda [formatted printing](#Formatted-printing) e [new style formatting](#New-style-string-formatting). È buona pratica usare `close()` su tutti i files in cui si &egrave; finito di leggere e scrivere. Se un programma Python finisce in modo controllato (cio&egrave; non per una caduta di tensione o un improbabile bug del linguaggio o del sistema operativo) tutti i files aperti vengono chiusi non appena i file objects vengono distrutti. Tuttavia, chiuderli esplicitamente non appena possibile &egrave; uno stile migliore di programmazione.\n",
    "\n",
    "### Metodi ed esempi di lettura e scrittura su file\n",
    "\n",
    "Creiamo un file chiamato `myfile.txt` che contiene le tre linee di testo seguenti:\n",
    "\n",
    "    This is the first line.\n",
    "    This is the second line.\n",
    "    This is a third and last line."
   ]
  },
  {
   "cell_type": "markdown",
   "metadata": {},
   "source": [
    "Il metodo `write` non aggiunge il carattere `newline (\\n)` alla fine di ogni operazione di scrittura. &Egrave; necessario inserirlo esplicitamente."
   ]
  },
  {
   "cell_type": "code",
   "execution_count": null,
   "metadata": {},
   "outputs": [],
   "source": [
    "f = open('myfile.txt', 'w')\n",
    "f.write('This is the first line.\\n'\n",
    "        'This is the second line.\\n'\n",
    "        'This is the third and last line.')\n",
    "f.close()"
   ]
  },
  {
   "cell_type": "markdown",
   "metadata": {},
   "source": [
    "Modi equivalenti:"
   ]
  },
  {
   "cell_type": "code",
   "execution_count": null,
   "metadata": {},
   "outputs": [],
   "source": [
    "f1 = open('myfile1.txt', 'w')\n",
    "f1.write('This is the first line.\\n''This is the second line.\\n''This is the third and last line.')\n",
    "f1.close()"
   ]
  },
  {
   "cell_type": "code",
   "execution_count": null,
   "metadata": {},
   "outputs": [],
   "source": [
    "f2 = open('myfile2.txt', 'w')\n",
    "f2.write('This is the first line.\\n'+'This is the second line.\\n'+'This is the third and last line.')\n",
    "f2.close()"
   ]
  },
  {
   "cell_type": "markdown",
   "metadata": {},
   "source": [
    "&Egrave; un errore passare a `write` più stringhe separate da virgole. `write` accetta un solo argomento."
   ]
  },
  {
   "cell_type": "code",
   "execution_count": null,
   "metadata": {},
   "outputs": [],
   "source": [
    "f3 = open('myfile3.txt', 'w')\n",
    "f3.write('This is the first line.\\n','This is the second line.\\n','This is the third and last line.')\n",
    "f3.close()"
   ]
  },
  {
   "cell_type": "markdown",
   "metadata": {},
   "source": [
    "Il metodo `read()` legge tutto il file, e lo restituisce come una singola stringa (inclusi i caratteri di \"a capo\" `\\n`)."
   ]
  },
  {
   "cell_type": "code",
   "execution_count": null,
   "metadata": {},
   "outputs": [],
   "source": [
    "f = open('myfile.txt', 'r')\n",
    "text = f.read()"
   ]
  },
  {
   "cell_type": "code",
   "execution_count": null,
   "metadata": {},
   "outputs": [],
   "source": [
    "f.close()\n",
    "print(text)"
   ]
  },
  {
   "cell_type": "markdown",
   "metadata": {},
   "source": [
    "Il metodo `readlines()` restituisce una lista di stringhe, in cui ciascun elemento della lista corrisponde a una linea del file:"
   ]
  },
  {
   "cell_type": "code",
   "execution_count": null,
   "metadata": {},
   "outputs": [],
   "source": [
    "f = open('myfile.txt', 'r')\n",
    "text = f.readlines()"
   ]
  },
  {
   "cell_type": "code",
   "execution_count": null,
   "metadata": {},
   "outputs": [],
   "source": [
    "f.close()\n",
    "print(text)"
   ]
  },
  {
   "cell_type": "markdown",
   "metadata": {},
   "source": [
    "Questo metodo viene spesso utilizzato per iterare sulle linee, compiendo delle operzioni su ciascuna linea. Per esempio:"
   ]
  },
  {
   "cell_type": "code",
   "execution_count": null,
   "metadata": {},
   "outputs": [],
   "source": [
    "f = open('myfile.txt', 'r')\n",
    "for line in f.readlines():\n",
    "    print(f\"{len(line)} characters\")\n",
    "f.close()"
   ]
  },
  {
   "cell_type": "markdown",
   "metadata": {},
   "source": [
    "Si noti che `readlines()` immagazzina tutto il file in una lista di stringhe. Non &egrave; un problema se si &egrave; sicuri che il file &egrave; piccolo e che pu&ograve; essere contenuto nella memoria disponibile.\n",
    "\n",
    "In questo caso, possiamo chiudere il file prima di processarne il contenuto:"
   ]
  },
  {
   "cell_type": "code",
   "execution_count": null,
   "metadata": {},
   "outputs": [],
   "source": [
    "f = open('myfile.txt', 'r')\n",
    "lines = f.readlines()\n",
    "f.close()\n",
    "for line in lines:\n",
    "    print(\"%d characters  %s\" % (len(line),line))"
   ]
  },
  {
   "cell_type": "markdown",
   "metadata": {},
   "source": [
    "#### Come iterare sulle linee (file object)\n",
    "\n",
    "Python considera un file come una lista di linee cos&igrave; come una stringa viene considerata come una lista di caratteri. Possiamo quindi utlizzare la `list comprehension` per leggere un file linea per linea. Questo approccio &egrave; adatto anche a files grandi e produce un codice compatto:"
   ]
  },
  {
   "cell_type": "code",
   "execution_count": null,
   "metadata": {},
   "outputs": [],
   "source": [
    "f = open('myfile.txt', 'r')\n",
    "for line in f:\n",
    "    print(f\"{len(line)} characters\")\n",
    "f.close()"
   ]
  },
  {
   "cell_type": "markdown",
   "metadata": {},
   "source": [
    "In questo caso, il \"file handle\" `f` agisce come un iteratore e restituisce la linea seguente a ogni iterazione del  for-loop fino alla fine del file (quando il for-loop finisce). In alternativa si pu&ograve; usare il metodo `readline` che restituisce una riga alla volta:"
   ]
  },
  {
   "cell_type": "code",
   "execution_count": null,
   "metadata": {},
   "outputs": [],
   "source": [
    "f = open('myfile.txt', 'r')\n",
    "l1 = f.readline()\n",
    "print(l1)\n",
    "l2 = f.readline()\n",
    "print(l2)\n",
    "f.close()"
   ]
  },
  {
   "cell_type": "markdown",
   "metadata": {},
   "source": [
    "#### Nozioni più avanzate: il context manager `with`"
   ]
  },
  {
   "cell_type": "markdown",
   "metadata": {},
   "source": [
    "La documentazione di Python consiglia accedere ai file con la keyword `with`:"
   ]
  },
  {
   "cell_type": "code",
   "execution_count": null,
   "metadata": {},
   "outputs": [],
   "source": [
    "with open('myfile.txt', \"r\") as f:\n",
    "    for line in f:\n",
    "        print(f\"{len(line)} characters\")"
   ]
  },
  {
   "cell_type": "markdown",
   "metadata": {},
   "source": [
    "Questa notazione chiude automaticamente il file alla fine delle operazioni contenute nel blocco `with` anche se il programma si fermasse per un errore. Il comando `close` non è pi&ugrave; necessario."
   ]
  },
  {
   "cell_type": "markdown",
   "metadata": {},
   "source": [
    "#### Lettura/scrittura su file in directory diversa da quella di lavoro\n",
    "\n",
    "La directory di lavoro si trova con il comando (magico)"
   ]
  },
  {
   "cell_type": "code",
   "execution_count": null,
   "metadata": {},
   "outputs": [],
   "source": [
    "%pwd"
   ]
  },
  {
   "cell_type": "markdown",
   "metadata": {
    "tags": []
   },
   "source": [
    "Si pu&ograve; aprire un file gi&agrave; esistente utilizzando il path assoluto:"
   ]
  },
  {
   "cell_type": "code",
   "execution_count": null,
   "metadata": {},
   "outputs": [],
   "source": [
    "with open(r\"/Users/maina/cernbox/python/MyCourse/path_test_dir/pippo1.txt\", \"r\") as filein:\n",
    "    for line in filein:\n",
    "        print(f\"{line} :: {len(line)} characters\")"
   ]
  },
  {
   "cell_type": "markdown",
   "metadata": {},
   "source": [
    "Si pu&ograve; creare un nuovo file utilizzando il path assoluto e passando il parametro `\"w\"` al comando `open`:"
   ]
  },
  {
   "cell_type": "code",
   "execution_count": null,
   "metadata": {},
   "outputs": [],
   "source": [
    "lines = [\"pippo\", \"pluto\", \"non c'è trippa per gatti\"]\n",
    "with open(r\"/Users/maina/cernbox/python/MyCourse/path_test_dir/pippo2.txt\", \"w\") as fileout:\n",
    "    for line in lines:\n",
    "        fileout.write(line + \"\\n\")"
   ]
  },
  {
   "cell_type": "markdown",
   "metadata": {},
   "source": [
    "Check:"
   ]
  },
  {
   "cell_type": "code",
   "execution_count": null,
   "metadata": {},
   "outputs": [],
   "source": [
    "test = open(r\"/Users/maina/cernbox/python/MyCourse/path_test_dir/pippo2.txt\", \"r\")\n",
    "res = test.read()\n",
    "print(res)"
   ]
  },
  {
   "cell_type": "markdown",
   "metadata": {},
   "source": [
    "Si pu&ograve; aprire un file gi&agrave; esistente utilizzando il path relativo:"
   ]
  },
  {
   "cell_type": "code",
   "execution_count": null,
   "metadata": {},
   "outputs": [],
   "source": [
    "with open(r\"../path_test_dir/pippo1.txt\", \"r\") as filein:\n",
    "    for line in filein:\n",
    "        print(f\"{line} :: {len(line)} characters\")"
   ]
  },
  {
   "cell_type": "markdown",
   "metadata": {},
   "source": [
    "Notate come nelle celle precedenti il path venga passato in stringhe che hanno la lettera `r` prima del delimitatore. Questo tipi di stringhe si chiamano `raw strings`. Tutto il testo contenuto nella stringa viene scritto esattamente come appare, per esempio \"\\n\" viene interpretato come `backslash` + `n` e non come il simbolo di `a capo`."
   ]
  },
  {
   "cell_type": "markdown",
   "metadata": {},
   "source": [
    "<div style = \"width:95%; padding:5px 10px 5px; border-style:solid; border-width:0px 0px 0px 10px; border-color:#b8d0d0; margin:20px 0px 10px 10px\">\n",
    "    <h4> Imparare Facendo</h4>\n",
    "    \n",
    "<OL>\n",
    "<LI>Aprite in lettura il file \"../Data/Iris_Dataset.csv\" assegnandolo alla variabile <b>filein</b>.\n",
    "<OL>\n",
    "    <LI>Importate il contenuto del file nella variabile <b>filein</b> usando il metodo <b>read</b>.\n",
    "    <LI>Chiudete il file.\n",
    "    <LI>Separate le linee con <b>split</b> usando il carattere \"\\n\" (newline) come separatore.\n",
    "    <LI>Saltate la prima riga e stampate le cinque righe seguenti sullo schermo.\n",
    "</OL>\n",
    "<LI>Aprite in lettura il file \"../Data/Iris_Dataset.csv\" assegnandolo alla variabile <b>filein</b>.\n",
    "<OL>\n",
    "    <LI>Importate il contenuto del file nella lista <b>fileList</b> usando il metodo <b>readlines</b>.\n",
    "    <LI>Chiudete il file.\n",
    "    <LI>Estraete il secondo valore da ciascuna riga, la prima esclusa. Stampate il valore numerico sullo schermo. \n",
    "</OL>\n",
    "</OL>\n",
    "</div>"
   ]
  },
  {
   "cell_type": "markdown",
   "metadata": {},
   "source": [
    "##### Informazioni ulteriori\n",
    "\n",
    "[Input and output, Tutorial, Section 7.2](http://docs.python.org/tutorial/inputoutput.html)"
   ]
  },
  {
   "cell_type": "markdown",
   "metadata": {},
   "source": [
    "# Sommario 5: Input/Output - Comunicare con il Mondo Esterno\n",
    "\n",
    "## 🎯 I Tre Pilastri dell'I/O\n",
    "\n",
    "1. **OUTPUT su schermo** - Comunicare con l'utente\n",
    "2. **FILES** - Salvare e recuperare dati\n",
    "3. **FORMATTAZIONE** - Presentare i dati in modo leggibile\n",
    "\n",
    "## 📺 Output su Schermo\n",
    "\n",
    "### Print Base\n",
    "```python\n",
    "print(var1, var2, ...)  # Separa con spazi, va a capo\n",
    "print(..., end=\"\")      # Non va a capo\n",
    "print(..., sep=\";\")     # Cambia separatore\n",
    "```\n",
    "\n",
    "### F-strings: Il Metodo Moderno\n",
    "```python\n",
    "f\"{variabile:formato}\"\n",
    "```\n",
    "\n",
    "#### Formati Essenziali\n",
    "\n",
    "| Tipo | Formato | Esempio | Output |\n",
    "|------|---------|---------|--------|\n",
    "| Float | `:.2f` | `f\"{3.14159:.2f}\"` | `3.14` |\n",
    "| Esponenziale | `:.2e` | `f\"{1000:.2e}\"` | `1.00e+03` |\n",
    "| Intero | `:d` | `f\"{42:d}\"` | `42` |\n",
    "| Stringa | `:s` | `f\"{'test':s}\"` | `test` |\n",
    "\n",
    "#### Controllo Spazio e Allineamento\n",
    "```python\n",
    "f\"{valore:larghezza.precisione_tipo}\"\n",
    "f\"{3.14:10.2f}\"   # ______3.14 (10 caratteri totali)\n",
    "f\"{testo:>10}\"    # Allinea a destra\n",
    "f\"{testo:<10}\"    # Allinea a sinistra  \n",
    "f\"{testo:^10}\"    # Centra\n",
    "```\n",
    "\n",
    "## 📁 Lavorare con i File\n",
    "\n",
    "### Il Ciclo Fondamentale\n",
    "\n",
    "```python\n",
    "# 1. APRI\n",
    "file = open(\"nome.txt\", modo)\n",
    "\n",
    "# 2. USA\n",
    "contenuto = file.read()  # o write()\n",
    "\n",
    "# 3. CHIUDI\n",
    "file.close()\n",
    "```\n",
    "\n",
    "### Modi di Apertura\n",
    "\n",
    "| Modo | Significato | Uso |\n",
    "|------|-------------|-----|\n",
    "| `\"r\"` | Read (lettura) | File esistente |\n",
    "| `\"w\"` | Write (scrittura) | Crea/sovrascrive |\n",
    "| `\"a\"` | Append (aggiunta) | Aggiunge in fondo |\n",
    "\n",
    "### Metodi di Lettura\n",
    "\n",
    "```python\n",
    "# TUTTO in una stringa\n",
    "testo = file.read()\n",
    "\n",
    "# Lista di righe\n",
    "righe = file.readlines()\n",
    "\n",
    "# Riga per riga (efficiente)\n",
    "for riga in file:\n",
    "    processa(riga)\n",
    "```\n",
    "\n",
    "### Pattern Sicuro con `with`\n",
    "```python\n",
    "with open(\"file.txt\", \"r\") as f:\n",
    "    contenuto = f.read()\n",
    "# File chiuso automaticamente!\n",
    "```\n",
    "\n",
    "## 🔧 Pattern Pratici per la Fisica\n",
    "\n",
    "### Salvare Dati Sperimentali\n",
    "```python\n",
    "# Scrivere misure con errori\n",
    "with open(\"dati.txt\", \"w\") as f:\n",
    "    f.write(\"# Tempo(s) Posizione(m) Errore(m)\\n\")\n",
    "    for t, x, err in misure:\n",
    "        f.write(f\"{t:8.3f} {x:12.6f} {err:10.6f}\\n\")\n",
    "```\n",
    "\n",
    "### Leggere Dati Numerici\n",
    "```python\n",
    "dati = []\n",
    "with open(\"misure.txt\", \"r\") as f:\n",
    "    for linea in f:\n",
    "        if not linea.startswith(\"#\"):  # Salta commenti\n",
    "            valori = linea.split()\n",
    "            dati.append([float(v) for v in valori])\n",
    "```\n",
    "\n",
    "### Creare Tabelle Formattate\n",
    "```python\n",
    "# Intestazione\n",
    "print(f\"{'Massa(kg)':>10} {'Velocità(m/s)':>15} {'Energia(J)':>12}\")\n",
    "print(\"-\" * 40)\n",
    "\n",
    "# Dati\n",
    "for m, v in dati:\n",
    "    E = 0.5 * m * v**2\n",
    "    print(f\"{m:10.2f} {v:15.3f} {E:12.2e}\")\n",
    "```\n",
    "\n",
    "## ⚠️ Errori Comuni e Soluzioni\n",
    "\n",
    "| Problema | Causa | Soluzione |\n",
    "|----------|-------|-----------|\n",
    "| `FileNotFoundError` | File non esiste | Controlla path e nome |\n",
    "| Caratteri strani | Encoding errato | Usa `encoding='utf-8'` |\n",
    "| File vuoto dopo scrittura | Manca `close()` | Usa `with` o chiudi manualmente |\n",
    "| `\\n` visibile | Print di `readlines()` | Usa `strip()` per rimuovere |\n",
    "| Percorsi Windows | Backslash `\\` | Usa raw string `r\"C:\\path\"` |\n",
    "\n",
    "## 📐 Scelta del Formato\n",
    "\n",
    "### Quando Usare Quale Metodo?\n",
    "\n",
    "| Situazione | Metodo | Perché |\n",
    "|------------|--------|---------|\n",
    "| Output semplice | `print(a, b)` | Veloce, debug |\n",
    "| Dati formattati | f-strings | Moderno, leggibile |\n",
    "| Template complessi | `.format()` | Riutilizzabile |\n",
    "| File piccoli | `read()` | Semplice |\n",
    "| File grandi | `for line in file` | Efficiente |\n",
    "\n",
    "## 💡 Best Practices\n",
    "\n",
    "### 1. Sempre Usare `with` per i File\n",
    "```python\n",
    "# SÌ\n",
    "with open(\"file.txt\") as f:\n",
    "    dati = f.read()\n",
    "\n",
    "# NO\n",
    "f = open(\"file.txt\")\n",
    "dati = f.read()\n",
    "# Rischio: file non chiuso se c'è errore\n",
    "```\n",
    "\n",
    "### 2. Commenti nei File di Dati\n",
    "```python\n",
    "# Scrivi metadati\n",
    "f.write(\"# Data: 2024-01-15\\n\")\n",
    "f.write(\"# Unità: SI\\n\")\n",
    "f.write(\"# Colonne: tempo(s) posizione(m)\\n\")\n",
    "```\n",
    "\n",
    "## 🔍 Checklist Debug I/O\n",
    "\n",
    "- [ ] Il file esiste nel percorso specificato?\n",
    "- [ ] Ho i permessi di lettura/scrittura?\n",
    "- [ ] Sto usando l'encoding corretto?\n",
    "- [ ] Ho chiuso il file dopo l'uso?\n",
    "- [ ] Le righe hanno `\\n` alla fine?\n",
    "- [ ] I percorsi usano `/` o raw strings?\n",
    "- [ ] Il formato è appropriato per i dati?\n",
    "\n",
    "## 📊 Schema Decisionale\n",
    "\n",
    "```\n",
    "Devo salvare dati?\n",
    "├─ Pochi e semplici → print su schermo\n",
    "├─ Da riusare → scrivi su file\n",
    "└─ Strutturati → considera CSV/JSON\n",
    "\n",
    "Devo leggere dati?\n",
    "├─ File piccolo → read() tutto\n",
    "├─ File grande → leggi riga per riga\n",
    "└─ Dati numerici → considera NumPy\n",
    "```\n"
   ]
  },
  {
   "cell_type": "code",
   "execution_count": null,
   "metadata": {},
   "outputs": [],
   "source": []
  }
 ],
 "metadata": {
  "hide_input": false,
  "kernelspec": {
   "display_name": "Python 3 (ipykernel)",
   "language": "python",
   "name": "python3"
  },
  "language_info": {
   "codemirror_mode": {
    "name": "ipython",
    "version": 3
   },
   "file_extension": ".py",
   "mimetype": "text/x-python",
   "name": "python",
   "nbconvert_exporter": "python",
   "pygments_lexer": "ipython3",
   "version": "3.13.5"
  },
  "toc": {
   "base_numbering": 1,
   "nav_menu": {},
   "number_sections": true,
   "sideBar": true,
   "skip_h1_title": true,
   "title_cell": "Table of Contents",
   "title_sidebar": "Contents",
   "toc_cell": false,
   "toc_position": {},
   "toc_section_display": true,
   "toc_window_display": false
  },
  "varInspector": {
   "cols": {
    "lenName": 16,
    "lenType": 16,
    "lenVar": 40
   },
   "kernels_config": {
    "python": {
     "delete_cmd_postfix": "",
     "delete_cmd_prefix": "del ",
     "library": "var_list.py",
     "varRefreshCmd": "print(var_dic_list())"
    },
    "r": {
     "delete_cmd_postfix": ") ",
     "delete_cmd_prefix": "rm(",
     "library": "var_list.r",
     "varRefreshCmd": "cat(var_dic_list()) "
    }
   },
   "types_to_exclude": [
    "module",
    "function",
    "builtin_function_or_method",
    "instance",
    "_Feature"
   ],
   "window_display": false
  }
 },
 "nbformat": 4,
 "nbformat_minor": 4
}
