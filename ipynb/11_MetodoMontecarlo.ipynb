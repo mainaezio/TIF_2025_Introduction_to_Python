{
 "cells": [
  {
   "cell_type": "markdown",
   "metadata": {},
   "source": [
    "<H1 style=\"font-size:50px\">11: Metodo Monte Carlo</H1>\n",
    "\n",
    "<hr>"
   ]
  },
  {
   "cell_type": "markdown",
   "metadata": {},
   "source": [
    "## 1.1 Introduzione\n",
    "\n",
    "Il termine Metodo Monte Carlo si riferisce a un insieme di tecniche di calcolo e simulazione che si basano sull'uso di numeri casuali.\n",
    "\n",
    "## 1.2 Integrazione numerica con metodo MC\n",
    "\n",
    "L'idea di usare numeri casuali per calcolare un integrale numerico si basa sul teorema della media in Analisi che afferma che l'integrale  $\\int_a^b f(x)\\,dx$ è uguale al prodotto della lunghezza (con segno) dell'intervallo di integrazione $(b-a)$ per il valor medio della funzione $f$, $<f>$, nell'intervallo. Il valor medio pu&ograve; essere calcolato\n",
    "facendo la media dei valori di $f$ in un set di punti scelti a caso in $[a,b]$.<BR>\n",
    "Esempio: $\\int_1^2 x^2 dx = \\frac{7}{3}$<BR>   "
   ]
  },
  {
   "cell_type": "code",
   "execution_count": null,
   "metadata": {},
   "outputs": [],
   "source": [
    "import numpy as np\n",
    "from numpy.random import default_rng\n",
    "\n",
    "rng = default_rng()\n",
    "\n",
    "npoints=10\n",
    "xval=rng.uniform(size=npoints)+1.   #punti casuali in [1,2]\n",
    "#print(xval)\n",
    "\n",
    "y_ave=np.mean(xval*xval)\n",
    "my_int=y_ave*(2.-1.)\n",
    "print(\"Stima dell'integrale:\",my_int)\n",
    "print(\"Risultato esatto:\",7/3)"
   ]
  },
  {
   "cell_type": "markdown",
   "metadata": {},
   "source": [
    "Aumentiamo il numero di punti per ottenere una maggiore accuratezza:"
   ]
  },
  {
   "cell_type": "code",
   "execution_count": null,
   "metadata": {},
   "outputs": [],
   "source": [
    "npoints=100\n",
    "xval=rng.uniform(size=npoints)+1.   #punti casuali in [1,2]\n",
    "#print(xval)\n",
    "\n",
    "y_ave=np.mean(xval*xval)\n",
    "my_int=y_ave*(2.-1.)\n",
    "print(\"Stima dell'integrale:\",my_int)\n",
    "print(\"Risultato esatto:\",7/3)"
   ]
  },
  {
   "cell_type": "markdown",
   "metadata": {},
   "source": [
    "Aumentiamo ancora il numero di punti:"
   ]
  },
  {
   "cell_type": "code",
   "execution_count": null,
   "metadata": {},
   "outputs": [],
   "source": [
    "npoints=1000\n",
    "xval=rng.uniform(size=npoints)+1.   #punti casuali in [1,2]\n",
    "#print(xval)\n",
    "\n",
    "y_ave=np.mean(xval*xval)\n",
    "my_int=y_ave*(2.-1.)\n",
    "print(\"Stima dell'integrale:\",my_int)\n",
    "print(\"Risultato esatto:\",7/3)"
   ]
  },
  {
   "cell_type": "markdown",
   "metadata": {},
   "source": [
    "<div style = \"width:95%; padding:5px 10px 5px; border-style:solid; border-width:0px 0px 0px 10px; border-color:#b8d0d0; margin:20px 0px 10px 10px\">\n",
    "    <h4> Imparare Facendo</h4>\n",
    "    \n",
    "<OL>\n",
    "<LI>Confrontate il risultato con quello fornito dal metodo dei trapezi e da `quad` nel notebook 10_scipy.</LI>\n",
    "</OL>\n",
    "</div>"
   ]
  },
  {
   "cell_type": "markdown",
   "metadata": {},
   "source": [
    "Esempio in più dimensioni: il volume di una semisfera di raggio 1: \n",
    "$$\\int_{-1}^1 dx \\int_{-\\sqrt{1-x^2}}^{\\sqrt{1-x^2}}dy\\,\\sqrt{1-x^2-y^2} = \\frac{2}{3}\\pi$$"
   ]
  },
  {
   "cell_type": "code",
   "execution_count": null,
   "metadata": {},
   "outputs": [],
   "source": [
    "#npoints = 100\n",
    "npoints = 10000\n",
    "xval=2*rng.uniform(size=npoints)-1.\n",
    "#print(xval)\n",
    "yval=2*rng.uniform(size=npoints)-1.\n",
    "#print(yval)\n",
    "points=[pair for pair in zip(xval,yval) if pair[0]**2 + pair[1]**2 < 1.] #zip returns tuples\n",
    "points=np.array(points)\n",
    "#type(points)\n",
    "#len(points)\n",
    "#print(points)"
   ]
  },
  {
   "cell_type": "code",
   "execution_count": null,
   "metadata": {},
   "outputs": [],
   "source": [
    "def my_f(point):\n",
    "    return np.sqrt(1.- (point*point).sum(axis=1)).mean()\n",
    "\n",
    "base_area=np.pi\n",
    "print(\"Stima dell'integrale:\",base_area*my_f(points))\n",
    "print(\"Risultato esatto:\",2/3*np.pi)"
   ]
  },
  {
   "cell_type": "markdown",
   "metadata": {},
   "source": [
    "Il grande vantaggio del metodo Monte Carlo &egrave; che si pu&ograve; estendere immediatamente a qualunque numero di dimensioni mentre non &egrave; possibile fare altrettanto con altri metodi."
   ]
  },
  {
   "cell_type": "markdown",
   "metadata": {},
   "source": [
    "## 1.3 Generazione di eventi distribuiti secondo una densit&agrave; di probabilit&agrave; fissata\n",
    "\n",
    "### 1.3.1 Metodo hit and miss\n",
    "\n",
    "\n",
    "Supponiamo di avere la seguente distribuzione di probabilit&agrave;:\n",
    "$$P(x) = \\begin{cases} 0.6 \\quad x<0.5\\\\ 1.4 \\quad x>0.5 \\end{cases}$$\n",
    "\n",
    "<div style= 'padding:20px 20px 20px 150px;'>\n",
    "  <img src=\"../Images/dist_gradino.jpg\" width=\"470\" />\n",
    "</div>\n",
    "\n",
    "e di voler generare valori di $x$ distribuiti secondo $P(x)$\n",
    "\n",
    "Procediamo nel modo seguente:\n",
    "\n",
    "- Troviamo un numero $Y$ tale che $P(x) < Y, \\,\\forall x$. Nel nostro caso potremmo prendere, per esempio, $Y = 2$.  \n",
    "- Generiamo un numero casuale $x_0$ in [0,1], in modo uniforme.\n",
    "- Generiamo un secondo numero casuale $y_0$ in [0,$Y$]\n",
    "- Teniamo il numero $x_0$ nel sample di valori se $y_0 < P(x_0)$ altrimenti lo scartiamo e generiamo un nuovo valore $x_0$.\n",
    "\n",
    "La probabilit&agrave; di tenere un punto nel bin di sinistra &egrave;:\n",
    "$$P_{sx}=P(x < 0.5)\\cdot P(y < 0.6) = 0.5\\cdot\\frac{0.6}{2}$$\n",
    "La probabilit&agrave; di tenere un punto nel bin di destra &egrave;:\n",
    "$$P_{dx}=P(x > 0.5)\\cdot P(y < 1.7) = 0.5\\cdot\\frac{1.4}{2}$$\n",
    "Quindi il rapporto $R$ fra le due probabilit&agrave;, ovvero il rapporto fra il numero di punti accettati in $x < 0.5$ e il numero di punti accettati in $x > 0.5$ &egrave;, come deve:\n",
    "$$ R = \\frac{P_{sx}}{P_{dx}} = \\frac{0.6}{1.4}$$"
   ]
  },
  {
   "cell_type": "code",
   "execution_count": null,
   "metadata": {},
   "outputs": [],
   "source": [
    "npoints=1000\n",
    "#npoints = 1000000\n",
    "xval=rng.uniform(size=npoints)\n",
    "# Separo i valori della coordinata x che cadono nel primo bin da quelli che cadono nel secondo (minori/maggiori di 0.5).\n",
    "x1val=[x for x in xval if x < 0.5]\n",
    "x2val=[x for x in xval if x > 0.5]\n",
    "\n",
    "# Altezza della distribuzione nei due bin\n",
    "y1=0.6\n",
    "y2=1.4\n",
    "\n",
    "# Per ogni coordinata x genero un numero casuale in [0,2] che rappresenta la corrispondente coordinata y.\n",
    "# Tengo il punto se cade al di sotto della curva della distribuzione, altrimenti lo scarto.\n",
    "# Il numero di punto accettati nei due bin, nel limite di un numero molto grande di punti,sono y1/2 e y2/2.\n",
    "x1val=[x for x in x1val if y1 > rng.uniform()*2]\n",
    "x2val=[x for x in x2val if y2 > rng.uniform()*2]\n",
    "\n",
    "print(\"Numero di punti in [0,0.5]:\",len(x1val))\n",
    "print(\"Numero di punti in [0.5,1]:\",len(x2val))\n",
    "print(\"rapporto fra i numeri di punti:\",len(x2val)/len(x1val),\"rapporto atteso=7/3:\",7/3)"
   ]
  },
  {
   "cell_type": "markdown",
   "metadata": {},
   "source": [
    "### 1.3.2 Test della generazione Monte Carlo di punti secondo una distribuzione data\n",
    "\n",
    "#### Una funzione generica per generare eventi secondo una distribuzione qualsiasi"
   ]
  },
  {
   "cell_type": "code",
   "execution_count": null,
   "metadata": {},
   "outputs": [],
   "source": [
    "import numpy as np\n",
    "\n",
    "def generate_f(f,a,b,max_f):\n",
    "    '''\n",
    "    Generate random points distributed according to an input distribution\n",
    "    Input:\n",
    "    f: the probability distribution\n",
    "    a,b: extrema of the range for the desired random number\n",
    "    max_f: a real number such that f(x) < max_f for each x\n",
    "    Returns:\n",
    "    ranval: random number\n",
    "    '''\n",
    "    not_found=True\n",
    "    while not_found:\n",
    "        x=rng.uniform(a,b)\n",
    "        y=rng.uniform(0,max_f)\n",
    "        if f(x)>y:\n",
    "            not_found=False\n",
    "    \n",
    "    return x\n",
    "    "
   ]
  },
  {
   "cell_type": "markdown",
   "metadata": {},
   "source": [
    "#### Esempio 1"
   ]
  },
  {
   "cell_type": "code",
   "execution_count": null,
   "metadata": {},
   "outputs": [],
   "source": [
    "def f1(x):\n",
    "    if x < 0.5:\n",
    "        val=0.6\n",
    "    else:\n",
    "        val=1.4\n",
    "    \n",
    "    return val\n",
    "    "
   ]
  },
  {
   "cell_type": "code",
   "execution_count": null,
   "metadata": {},
   "outputs": [],
   "source": [
    "#npoints=1000\n",
    "npoints = 1000000\n",
    "xval = [generate_f(f1,0,1,2) for n in range(npoints)]\n",
    "x1val=[x for x in xval if x < 0.5]\n",
    "x2val=[x for x in xval if x > 0.5]\n",
    "\n",
    "print(\"Numero di punti in [0,0.5]:\",len(x1val))\n",
    "print(\"Numero di punti in [0.5,1]:\",len(x2val))\n",
    "print(\"rapporto fra i numeri di punti:\",len(x2val)/len(x1val),\"rapporto atteso=7/3:\",7/3)"
   ]
  },
  {
   "cell_type": "markdown",
   "metadata": {},
   "source": [
    "Facciamo l'istogramma normalizzato delle frequenze di `xval`: "
   ]
  },
  {
   "cell_type": "code",
   "execution_count": null,
   "metadata": {},
   "outputs": [],
   "source": [
    "import matplotlib.pyplot as plt\n",
    "nbins = 10\n",
    "xrange = (0,1)\n",
    "\n",
    "fig, ax = plt.subplots()\n",
    "nevent, bins, patches = ax.hist(xval, nbins, range=xrange, density=True)"
   ]
  },
  {
   "cell_type": "markdown",
   "metadata": {},
   "source": [
    "#### Esempio 2"
   ]
  },
  {
   "cell_type": "code",
   "execution_count": null,
   "metadata": {},
   "outputs": [],
   "source": [
    "def f2(x):\n",
    "    val=3./8.*(1+x**2)\n",
    "    \n",
    "    return val    "
   ]
  },
  {
   "cell_type": "code",
   "execution_count": null,
   "metadata": {},
   "outputs": [],
   "source": [
    "#npoints=1000\n",
    "npoints = 100000\n",
    "xval = [generate_f(f2,-1,1,1) for n in range(npoints)]\n",
    "\n",
    "nbins = 20\n",
    "xrange = (-1,1)\n",
    "\n",
    "fig, ax = plt.subplots(figsize=(10,7))\n",
    "nevent, bins, patches = ax.hist(xval, nbins, range=xrange)\n",
    "ax.grid(True)"
   ]
  },
  {
   "cell_type": "markdown",
   "metadata": {},
   "source": [
    "## 1.4 Propagazione dell'errore con metodo MC"
   ]
  },
  {
   "cell_type": "markdown",
   "metadata": {},
   "source": [
    "Supponiamo di aver fatto un esperimento per misurare l'accelerazione di gravit&agrave; $g$ misurando il periodo $T$ di oscillazione di un pendolo di lunghezza variabile $L$. Sappiamo che:\n",
    "$$ T = 2 \\pi \\sqrt{\\frac{L}{g}} \\quad \\rightarrow \\quad g = \\frac{ 4 \\pi^2 L}{T^2}$$\n",
    "Supponiamo di aver misurato $L = 1.000 \\pm 0.004\\, m$, $T = 2.000 \\pm 0.005\\, s$ e che le misure siano distribuite gaussianamente.\n",
    "Per la propagazine degli errori ci servono:\n",
    "$$ \\frac{\\partial g}{\\partial T} = \\frac{ - 8 \\pi^2 L}{T^3},\\qquad  \\frac{\\partial g}{\\partial L} = \\frac{ 4 \\pi^2}{T^2}$$\n",
    "\n",
    "$$ \\sigma_g = \\sqrt{\\left. \\sigma_T \\, \\frac{\\partial g}{\\partial T}\\right|^2_{\\overline{T},\\overline{L}} +\n",
    "\\left. \\sigma_L \\, \\frac{\\partial g}{\\partial L}\\right|^2_{\\overline{T},\\overline{L}}\n",
    "}$$"
   ]
  },
  {
   "cell_type": "code",
   "execution_count": null,
   "metadata": {},
   "outputs": [],
   "source": [
    "import numpy as np\n",
    "import matplotlib.pyplot as plt\n",
    "\n",
    "def g(L,T):\n",
    "    return 4*np.pi**2*L/T**2\n",
    "\n",
    "def g_err(L,L_err,T,T_err):\n",
    "    return 4*np.pi**2/T**2*np.sqrt(4*(L/T*T_err)**2 + L_err**2)\n",
    "\n",
    "L_mean =1.0\n",
    "L_err = 0.004\n",
    "T_mean = 2.0\n",
    "T_err = 0.005\n",
    "\n",
    "g_m = g(L_mean,T_mean)\n",
    "g_e = g_err(L_mean,L_err,T_mean,T_err)\n",
    "print(f\"g_exp = {g_m} +\\- {g_e}\")"
   ]
  },
  {
   "cell_type": "markdown",
   "metadata": {},
   "source": [
    "Per valutare l'errore su $g$ con il metodo Monte Carlo generiamo 1000 valori per L e 1000 per T da distribuzioni gaussiane con i rispettivi valori medi e deviazioni standard. Calcoliamo i corrispondenti valori di $g$ e valutiamo il valor medio e la deviazione standard della distribuzione ottenuta."
   ]
  },
  {
   "cell_type": "code",
   "execution_count": null,
   "metadata": {},
   "outputs": [],
   "source": [
    "npoints = 1000\n",
    "T_test = rng.normal(T_mean,T_err,npoints)\n",
    "L_test = rng.normal(L_mean,L_err,npoints)\n",
    "g_test = g(L_test,T_test)\n",
    "g_m1 = g_test.mean()\n",
    "g_e1 = g_test.std()\n",
    "print(f\"g_MC = {g_m1} +\\- {g_e1}\")"
   ]
  },
  {
   "cell_type": "markdown",
   "metadata": {},
   "source": [
    "### 1.4.1 Plot di controllo\n",
    "\n",
    "Nota sulle normalizzazioni:<BR>\n",
    "    - Dato un istogramma con $N_{tot}$ valori, i valori in ciascun bin sommano a $N_{tot}$.    \n",
    "    - Se si vuole sovrapporre una gaussiana $g(x)$ all'istogramma bisogna ricordare che: $\\int g(x)\\,dx = \\sum_i g(x_i) w =1$, dove $w$ è la larghezza di ciascun bin. Di conseguenza i valori di $g(x)$ vanno moltiplicati per $w \\cdot N_{tot}$ per avere un confronto significativo."
   ]
  },
  {
   "cell_type": "code",
   "execution_count": null,
   "metadata": {},
   "outputs": [],
   "source": [
    "def Gauss_dist(t,lam,sigma):\n",
    "    return np.exp(-0.5*((t-lam)/sigma)**2)/np.sqrt(2*np.pi)/sigma\n",
    "\n",
    "fig1, ax1 = plt.subplots()\n",
    "\n",
    "nbins = 20\n",
    "range1 = (L_mean - 3*L_err,L_mean + 3*L_err)\n",
    "ax1.hist(L_test,nbins,range1,color='b',label='L');\n",
    "\n",
    "fig2, ax2 = plt.subplots()\n",
    "\n",
    "nbins = 20\n",
    "range2 = (T_mean - 3*T_err,T_mean + 3*T_err)\n",
    "ax2.hist(T_test,nbins,range2,color='r',label='T');\n",
    "\n",
    "\n",
    "fig3, ax3 = plt.subplots()\n",
    "\n",
    "nbins = 20\n",
    "range3 = (g_m1 - 3*g_e1,g_m1 + 3*g_e1)\n",
    "binwidth = 6*g_e1/nbins\n",
    "\n",
    "ax3.hist(g_test,nbins,range3,color='g',label='g');\n",
    "\n",
    "t = np.linspace(g_m1 - 3*g_e1,g_m1 + 3*g_e1,100)\n",
    "yval = Gauss_dist(t,g_m1,g_e1)*npoints*binwidth\n",
    "#yval = np.array([np.exp(-0.5*((t1-g_m1)/g_e1)**2)/np.sqrt(2*np.pi)/g_e1 for t1 in t])\n",
    "#print(yval)\n",
    "\n",
    "ax3.plot(t,yval,c='k')\n"
   ]
  },
  {
   "cell_type": "markdown",
   "metadata": {},
   "source": [
    "## 1.5 Simulazione di eventi complessi con metodo MC 1\n",
    "\n",
    "Il metodo Monte Carlo pu&ograve; essere utilizzato per simulare numericamente situazioni in cui le variabili rilevanti sono affette da incertezze.\n",
    "\n",
    "L'esempio che segue, che mi sembra illuminante, &egrave; tratto da un articolo di Robert Kwiatkowski[https://medium.com/data-science/monte-carlo-simulation-a-practical-guide-85da45597f0e](https://medium.com/data-science/monte-carlo-simulation-a-practical-guide-85da45597f0e)\n",
    "\n",
    "Per procedere &egrave; necessario:\n",
    "\n",
    "- Identificare tutti gli elementi che contribuiscono al processo e come interagiscono, ad esempio: si sommano o si sottraggono?\n",
    "- Identificare sperimentalmente i parametri delle distribuzioni di probabilit&agrave; che descrivono ciascun elemento.\n",
    "- Campionare da ciascuna delle distribuzioni e combinare i risultati ottenendo l'esito finale di una singola iterazione.\n",
    "- Ripetere la procedura un numero sufficiente di volte, tipicamente fino a quando la distribuzione dei risultati finale &egrave; stabile rispetto al numero di ripetizioni.\n",
    "\n",
    "Durante l’esecuzione di questa simulazione, il parametro risultante converger&agrave; verso la distribuzione normale, anche se le distribuzioni di origine possono essere diverse. Questo &egrave; l’effetto del Teorema del limite centrale ed &egrave; uno dei motivi per cui questa tecnica &egrave; diventata immensamente popolare in vari settori."
   ]
  },
  {
   "cell_type": "markdown",
   "metadata": {},
   "source": [
    "In questo esempio assumiamo di voler assemblare tre blocchi all’interno di un contenitore di una determinata larghezza. Le dimensioni nominali dei diversi elementi, in millimetri, sono riportate nell’immagine sottostante. Vediamo che da progetto c’&egrave; uno spazio nominale disponibile di 0,5 mm.\n",
    "\n",
    "<div style= 'padding:20px 20px 20px 150px;'>\n",
    "  <img src=\"../Images/Kwiatkowski_1.webp\" width=\"500\" />\n",
    "</div>\n"
   ]
  },
  {
   "cell_type": "markdown",
   "metadata": {},
   "source": [
    "Tuttavia, le dimensioni reali dei tre blocchi e del un contenitore possono variare per imprecisioni nella procedura di costruzione. A scopo dimostrativo, assumiamo che nessuna di queste variazioni segua la distribuzione normale. I tre blocchi seguiranno le distribuzioni triangolari illustrate nella figura mentre le dimensioni del contenitore seguiranno una distribuzione uniforme in un intervallo di +/-0,1 mm\n",
    "rispetto alle dimensioni nominali.\n"
   ]
  },
  {
   "cell_type": "code",
   "execution_count": null,
   "metadata": {},
   "outputs": [],
   "source": [
    "import numpy as np\n",
    "from numpy.random import default_rng\n",
    "import matplotlib.pyplot as plt\n",
    "\n",
    "rng = default_rng()\n",
    "\n",
    "sample = 50000\n",
    "dist1 = rng.triangular(3.8, 4.0, 4.4,sample)\n",
    "dist2 = rng.triangular(5.9, 6.0, 6.5,sample)\n",
    "dist3 = rng.triangular(5.8, 6.0, 6.1,sample)\n",
    "\n",
    "nbins = 60\n",
    "xrange1 = (3.8, 4.4)\n",
    "xrange2 = (5.9, 6.5)\n",
    "xrange3 = (5.8, 6.1)\n",
    "\n",
    "linw = 0.2\n",
    "\n",
    "fig, (ax1,ax2,ax3) = plt.subplots(ncols=3, figsize=(12, 5))\n",
    "nevent1, bins1, patches1 = ax1.hist(dist1, nbins, range=xrange1, edgecolor = \"black\", linewidth = linw, density=True)\n",
    "nevent2, bins2, patches2 = ax2.hist(dist2, nbins, range=xrange2, edgecolor = \"black\", linewidth = linw, density=True)\n",
    "nevent3, bins3, patches3 = ax3.hist(dist3, nbins, range=xrange3, edgecolor = \"black\", linewidth = linw, density=True)\n",
    "\n",
    "ax1.set_ylabel('P(x)')\n",
    "ax1.set_xlabel(r\"$X_1\\,\\,mm$\")\n",
    "ax2.set_xlabel(r\"$X_2\\,\\,mm$\")\n",
    "ax3.set_xlabel(r\"$X_3\\,\\,mm$\");"
   ]
  },
  {
   "cell_type": "markdown",
   "metadata": {},
   "source": [
    "Ora, calcolando semplicemente i valori estremi, possiamo vedere che nello scenario peggiore la somma delle lunghezze dei  blocchi pu&ograve; arrivare a 17 mm e mentre il contenitore pu&ograve; avere una larghezza di soli 16,4 mm. In questo caso, non possiamo inserire tutti i blocchi all'interno del contenitore.\n",
    "\n",
    "La domanda &egrave; : qual &egrave;  la probabilit&agrave;  di non riuscire a inserire tutti i blocchi in un contenitore?\n",
    "\n",
    "Lo spazio residuo all'interno del contenitore sar&agrave;  `Y = X4 – X1 – X2 – X3`. Se `Y` &egrave; negativo non i blocchi non potranno essere inseriti nel contenitore. "
   ]
  },
  {
   "cell_type": "code",
   "execution_count": null,
   "metadata": {},
   "outputs": [],
   "source": [
    "import numpy as np\n",
    "from numpy.random import default_rng\n",
    "\n",
    "rng = default_rng()\n",
    "\n",
    "s = 100000 # numero di campioni\n",
    "limit = 0 # valore minimo dello spazio residuo\n",
    "\n",
    "# componenti. rng restituisce degli nd.array.\n",
    "component_1 = rng.triangular(3.8, 4.0, 4.4,s)\n",
    "component_2 = rng.triangular(5.9, 6.0, 6.5,s)\n",
    "component_3 = rng.triangular(5.8, 6.0, 6.1,s)\n",
    "component_4 = rng.uniform(16.4, 16.6, s)\n",
    "\n",
    "# combiniamo i risultati\n",
    "total = component_4 - component_1 - component_2 - component_3\n",
    "\n",
    "# selezioniamo gli eventi per cui total è minore di zero\n",
    "fails = total < limit\n",
    "print(\"\\n\",fails[0:30],\"\\n\")\n",
    "\n",
    "# True vale 1 mentre False vale zero. Trovo quindi il numero di True facendo la somma degli elementi di fails\n",
    "# Trovo la percentuale di fallimenti dividendo per il numero totale di evento e moltiplicando per 100\n",
    "probability = np.sum(fails)/len(total)*100\n",
    "\n",
    "print(f\"Probabilità di fallimento: {probability}%\")\n",
    "\n",
    "fig2, ax4 = plt.subplots(figsize=(8, 5))\n",
    "xrange2 = (-0.5, 1.0)\n",
    "nevent, bins, patches = ax4.hist(total, nbins, range=xrange2, edgecolor = \"black\", linewidth = linw)\n",
    "\n",
    "# Usando ``transform=vax.get_xaxis_transform()`` le coordinate y vengono scalate\n",
    "# in modo che 0 corrisponda all'estremo inferiore degli Axes and 1 all'estremo superiore.\n",
    "ax4.vlines(0, 0, 1, transform=ax4.get_xaxis_transform(), linestyle='dashed', colors='r');\n"
   ]
  },
  {
   "cell_type": "markdown",
   "metadata": {},
   "source": [
    "## 1.6 Simulazione di eventi complessi con metodo MC 2"
   ]
  },
  {
   "cell_type": "markdown",
   "metadata": {},
   "source": [
    "Il metodo Monte Carlo pu&ograve; essere utilizzato per simulare numericamente processi\n",
    "complessi in cui ogni passo &egrave; governato da una distribuzione di probabilit&agrave;.<BR>\n",
    "\n",
    "Prendiamo come esempio un gioco di dadi chiamato `Craps` che si svolge come segue:\n",
    "- Il giocatore fa la propria puntata e poi getta due dadi.\n",
    "- Se la somma dei punteggi &egrave; 7 oppure 11, il giocatore vince e gli viene restituito il doppio della propria puntata.\n",
    "- Se la somma dei punteggi &egrave; 2, 3 oppure 12, il giocatore perde la propria puntata.\n",
    "- In tutti gli altri casi, il giocatore tira nuovamente i dadi finch&egrave; non si realizza il punteggio realizzato al primo lancio (il giocatore vince) oppure 7 (il giocatore perde).\n",
    "\n",
    "Vogliamo stabilire la probabilit&agrave; che un giocatore ha di vincere o di perdere denaro in una partita composta di molte mani di `Craps` e la distribuzione di probabilit&agrave; delle vincite e perdite.\n",
    "\n",
    "Ogni dado ha probabilit&agrave; 1/6 di mostrare un numero qualsiasi fra 1 e 6.\n",
    "Le probabilit&agrave; dei punteggi nel lancio di due dadi sono:\n",
    "-    P(2) = P(12) = 1/36\n",
    "-    P(3) = P(11) = 2/36\n",
    "-    P(4) = P(10) = 3/36\n",
    "-    P(5) = P(9)  = 4/36\n",
    "-    P(6) = P(8)  = 5/36\n",
    "-    P(7)         = 6/36"
   ]
  },
  {
   "cell_type": "markdown",
   "metadata": {},
   "source": [
    "Costruiamo una funzione che simuli una mano di `Craps`"
   ]
  },
  {
   "cell_type": "code",
   "execution_count": null,
   "metadata": {
    "tags": []
   },
   "outputs": [],
   "source": [
    "import matplotlib.pyplot as plt\n",
    "import numpy as np\n",
    "from numpy.random import default_rng\n",
    "\n",
    "rng = default_rng()\n",
    "\n",
    "def craps_once():\n",
    "    '''\n",
    "    Il giocatore getta due dadi.\n",
    "    Se la somma dei punteggi &egrave; 7 oppure 11, il giocatore vince e riceve la propria puntata raddoppiata\n",
    "    Se la somma dei punteggi &egrave; 2, 3 oppure 12, il giocatore perde la propria puntata.\n",
    "    In tutti gli altri casi si tirano nuovamente i dadi finch&egrave; non si realizza il punteggio iniziale\n",
    "    (il giocatore vince) oppure 7 (il giocatore perde).\n",
    "    La funzione restituisce `True` in caso di vittoria del giocatore, `False` in caso contrario.\n",
    "    '''\n",
    "    # Primo lancio\n",
    "    first_roll = rng.integers(1,high=7,size=2)\n",
    "    #print(first_roll)\n",
    "    first = sum(first_roll)\n",
    "    #print(first)\n",
    "    # Risultato oppure lanci successivi\n",
    "    if(first in [7,11]):\n",
    "        return True\n",
    "    elif(first in [2,3,12]):\n",
    "        return False\n",
    "    else:\n",
    "        # Lanci successivi. Il loop infinito è interrotto dal return\n",
    "        # se il lancio totalizza il valore del primo lancio (True -> vincita) oppure 7 (False -> perdita)\n",
    "        while(True):\n",
    "            roll = sum(rng.integers(1,high=7,size=2))\n",
    "            #print('++',roll,'++')\n",
    "            if(roll==first):\n",
    "                return True\n",
    "            elif(roll==7):\n",
    "                return False\n",
    "            \n",
    "    \n",
    "craps_once()"
   ]
  },
  {
   "cell_type": "markdown",
   "metadata": {},
   "source": [
    "Stimiamo la probabilit&agrave; del giocatore di vincere la mano, calcolando la frazione di vittorie su un dato numero (grande) di mani."
   ]
  },
  {
   "cell_type": "code",
   "execution_count": null,
   "metadata": {
    "tags": []
   },
   "outputs": [],
   "source": [
    "def craps_probability(n):\n",
    "    '''\n",
    "    Stima la probabilità di vincere una mano di Craps\n",
    "    calcolando la frazione di vittorie su n tentativi.\n",
    "    La stima varia casualmente ad ogni run, attorno al\n",
    "    risultato esatto &egrave; 244/495 ≈ 0.492929\n",
    "    '''\n",
    "    nwin = 0\n",
    "    for i in range(n):\n",
    "        if(craps_once()):\n",
    "            nwin += 1\n",
    "            \n",
    "    probability = nwin/n\n",
    "    return probability\n",
    "\n",
    "\n",
    "n = 10000\n",
    "craps_probability(n)"
   ]
  },
  {
   "cell_type": "markdown",
   "metadata": {},
   "source": [
    "Valutiamo la distribuzione delle vincita o perdita in una partita di `nhands` mani, simulando\n",
    "`nsession` partite."
   ]
  },
  {
   "cell_type": "code",
   "execution_count": null,
   "metadata": {
    "tags": []
   },
   "outputs": [],
   "source": [
    "def craps_outcome(nsessions, nhands):\n",
    "    '''\n",
    "    Stima la distribuzione di risultati di una partita di craps di nhands mani,\n",
    "    simulando nsessions partite, ognuna di nhands mani.\n",
    "    Assumiamo che ad ogni puntata venga scommessa la stessa cifra che possiamo\n",
    "    considerare come una unità.\n",
    "    Se il giocatore vince il suo capitale aumenta di una unità.\n",
    "    Se il giocatore perde il suo capitale diminuisce di una unità.\n",
    "    Restituisce un array di nsessions elementi con la variazione del capitale iniziale\n",
    "    in ogni sessione.\n",
    "    '''\n",
    "    \n",
    "    res = np.zeros(nsessions, dtype = int)\n",
    "    index = 0\n",
    "    \n",
    "    for i in range(nsessions):    # loop sulle partite\n",
    "        capital = 0\n",
    "        for j in range(nhands):   # loop sulle mani di una partita\n",
    "            if(craps_once()):\n",
    "                capital += 1\n",
    "            else:\n",
    "                capital -= 1\n",
    "        res[i] = capital\n",
    "        \n",
    "    return res\n",
    "\n",
    "out = craps_outcome(1000,1000)\n",
    "#print(out)"
   ]
  },
  {
   "cell_type": "markdown",
   "metadata": {},
   "source": [
    "Disegnamo il plot delle frequenze."
   ]
  },
  {
   "cell_type": "code",
   "execution_count": null,
   "metadata": {
    "tags": []
   },
   "outputs": [],
   "source": [
    "fig, ax = plt.subplots(nrows=1, ncols=1, figsize=(8, 5))\n",
    "min = out.min()\n",
    "max = out.max()\n",
    "# cerchiamo estremi più carini\n",
    "inf = (min//10 -1)*10\n",
    "sup = (max//10+1)*10\n",
    "#print(inf,sup)\n",
    "nbins = (sup - inf)//10\n",
    "\n",
    "xrange = (float(inf),float(sup))\n",
    "nevent, bins, patches = ax.hist(out, nbins, range=xrange)\n",
    "ax.grid()\n"
   ]
  },
  {
   "cell_type": "markdown",
   "metadata": {},
   "source": [
    "\n",
    "## Sommario dei concetti principali\n",
    "\n",
    "### **Concetti Fondamentali del Metodo Monte Carlo**\n",
    "\n",
    "1. **Integrazione numerica Monte Carlo** (Sezione 1.2)\n",
    "   - Basata sul teorema del valor medio: l'integrale equivale al prodotto dell'intervallo per il valor medio della funzione\n",
    "   - La precisione aumenta con il numero di punti casuali utilizzati\n",
    "   - Vantaggi: facilmente estendibile a dimensioni multiple dove altri metodi diventano impraticabili\n",
    "\n",
    "2. **Generazione di distribuzioni di probabilit&agrave;** (Sezione 1.3)\n",
    "   - **Metodo hit-and-miss**: genera punti casuali uniformi e li accetta/rifiuta in base alla distribuzione desiderata\n",
    "   - Principio: la probabilit&agrave; di accettazione in una regione &egrave; proporzionale al valore della funzione di densit&agrave;\n",
    "\n",
    "3. **Propagazione degli errori** (Sezione 1.4)\n",
    "   - Monte Carlo permette di stimare l'incertezza su grandezze derivate senza calcoli analitici complessi\n",
    "   - Si generano campioni dalle distribuzioni delle variabili di input e si calcola la distribuzione dell'output\n",
    "   - Il metodo cattura automaticamente correlazioni e non-linearit&agrave;\n",
    "\n",
    "4. **Simulazione di processi stocastici** (Sezione 1.5)\n",
    "   - Esempio del gioco Craps: simulazione di eventi sequenziali con regole probabilistiche\n",
    "   - La legge dei grandi numeri garantisce la convergenza delle stime alle probabilit&agrave; teoriche\n",
    "   - Permette di studiare sistemi complessi difficili da analizzare analiticamente\n",
    "\n",
    "### **Principi chiave**\n",
    "- **Casualit&agrave; controllata**: uso di generatori pseudo-casuali per risultati riproducibili\n",
    "- **Convergenza statistica**: l'accuratezza migliora proporzionalmente a $\\sqrt{n}$ ($n$ = numero di campioni)\n",
    "- **Versatilit&agrave;**: applicabile a problemi di integrazione, ottimizzazione, e simulazione\n",
    "- **Trade-off**: richiede molte iterazioni per alta precisione, ma gestisce facilmente problemi multidimensionali\n"
   ]
  },
  {
   "cell_type": "code",
   "execution_count": null,
   "metadata": {},
   "outputs": [],
   "source": []
  }
 ],
 "metadata": {
  "kernelspec": {
   "display_name": "Python 3 (ipykernel)",
   "language": "python",
   "name": "python3"
  },
  "language_info": {
   "codemirror_mode": {
    "name": "ipython",
    "version": 3
   },
   "file_extension": ".py",
   "mimetype": "text/x-python",
   "name": "python",
   "nbconvert_exporter": "python",
   "pygments_lexer": "ipython3",
   "version": "3.13.5"
  }
 },
 "nbformat": 4,
 "nbformat_minor": 4
}
